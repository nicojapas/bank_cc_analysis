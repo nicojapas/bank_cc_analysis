{
 "cells": [
  {
   "cell_type": "code",
   "execution_count": 1,
   "id": "happy-spanish",
   "metadata": {},
   "outputs": [],
   "source": [
    "import pandas as pd\n",
    "import numpy as np\n",
    "from matplotlib import pyplot as plt\n",
    "import seaborn as sns\n",
    "import math"
   ]
  },
  {
   "cell_type": "code",
   "execution_count": 2,
   "id": "listed-tampa",
   "metadata": {},
   "outputs": [],
   "source": [
    "# import pymysql\n",
    "# import getpass\n",
    "# password = getpass.getpass()"
   ]
  },
  {
   "cell_type": "markdown",
   "id": "least-drive",
   "metadata": {},
   "source": [
    "## 1. Loading Data and basic editing"
   ]
  },
  {
   "cell_type": "markdown",
   "id": "choice-singapore",
   "metadata": {},
   "source": [
    "### 1.1 Import .csv file into a dataframe using pandas"
   ]
  },
  {
   "cell_type": "code",
   "execution_count": 3,
   "id": "promising-audience",
   "metadata": {},
   "outputs": [],
   "source": [
    "data = pd.read_csv('files/creditcardmarketing_clean.csv')"
   ]
  },
  {
   "cell_type": "markdown",
   "id": "piano-quantity",
   "metadata": {},
   "source": [
    "### 1.2 Make column names compliant with the **underscore_separated** naming convention"
   ]
  },
  {
   "cell_type": "markdown",
   "id": "verified-consensus",
   "metadata": {},
   "source": [
    "1.2.1 Defining a function for renaming"
   ]
  },
  {
   "cell_type": "code",
   "execution_count": 4,
   "id": "consolidated-slide",
   "metadata": {},
   "outputs": [],
   "source": [
    "def rename_cols(df):\n",
    "    \"\"\"\n",
    "    This function takes a pandas dataframe and changes its column names in place to lowercase and replacing\n",
    "    spaces with underscores. Simply write\n",
    "    >>> rename_cols(data)\n",
    "    \"\"\"\n",
    "    df.columns = df.columns.str.replace(\" \",\"_\").str.lower()\n",
    "    df.columns = df.columns.str.replace(\"#\",\"n\")\n",
    "    pass"
   ]
  },
  {
   "cell_type": "markdown",
   "id": "sunrise-infrared",
   "metadata": {},
   "source": [
    "1.2.2 Call the rename function"
   ]
  },
  {
   "cell_type": "code",
   "execution_count": 5,
   "id": "worthy-maple",
   "metadata": {},
   "outputs": [],
   "source": [
    "rename_cols(data)"
   ]
  },
  {
   "cell_type": "markdown",
   "id": "gothic-words",
   "metadata": {},
   "source": [
    "1.2.3 Getting some basic information about the data using the methods **head()** and **info()**, and the attribute **shape**."
   ]
  },
  {
   "cell_type": "code",
   "execution_count": 6,
   "id": "greenhouse-reliance",
   "metadata": {},
   "outputs": [
    {
     "data": {
      "text/html": [
       "<div>\n",
       "<style scoped>\n",
       "    .dataframe tbody tr th:only-of-type {\n",
       "        vertical-align: middle;\n",
       "    }\n",
       "\n",
       "    .dataframe tbody tr th {\n",
       "        vertical-align: top;\n",
       "    }\n",
       "\n",
       "    .dataframe thead th {\n",
       "        text-align: right;\n",
       "    }\n",
       "</style>\n",
       "<table border=\"1\" class=\"dataframe\">\n",
       "  <thead>\n",
       "    <tr style=\"text-align: right;\">\n",
       "      <th></th>\n",
       "      <th>customer_number</th>\n",
       "      <th>offer_accepted</th>\n",
       "      <th>reward</th>\n",
       "      <th>mailer_type</th>\n",
       "      <th>income_level</th>\n",
       "      <th>n_bank_accounts_open</th>\n",
       "      <th>overdraft_protection</th>\n",
       "      <th>credit_rating</th>\n",
       "      <th>n_credit_cards_held</th>\n",
       "      <th>n_homes_owned</th>\n",
       "      <th>household_size</th>\n",
       "      <th>own_your_home</th>\n",
       "      <th>average_balance</th>\n",
       "      <th>q1_balance</th>\n",
       "      <th>q2_balance</th>\n",
       "      <th>q3_balance</th>\n",
       "      <th>q4_balance</th>\n",
       "    </tr>\n",
       "  </thead>\n",
       "  <tbody>\n",
       "    <tr>\n",
       "      <th>0</th>\n",
       "      <td>1</td>\n",
       "      <td>No</td>\n",
       "      <td>Air Miles</td>\n",
       "      <td>Letter</td>\n",
       "      <td>High</td>\n",
       "      <td>1</td>\n",
       "      <td>No</td>\n",
       "      <td>High</td>\n",
       "      <td>2</td>\n",
       "      <td>1</td>\n",
       "      <td>4</td>\n",
       "      <td>No</td>\n",
       "      <td>1160,75</td>\n",
       "      <td>1669.0</td>\n",
       "      <td>877.0</td>\n",
       "      <td>1095.0</td>\n",
       "      <td>1002.0</td>\n",
       "    </tr>\n",
       "    <tr>\n",
       "      <th>1</th>\n",
       "      <td>2</td>\n",
       "      <td>No</td>\n",
       "      <td>Air Miles</td>\n",
       "      <td>Letter</td>\n",
       "      <td>Medium</td>\n",
       "      <td>1</td>\n",
       "      <td>No</td>\n",
       "      <td>Medium</td>\n",
       "      <td>2</td>\n",
       "      <td>2</td>\n",
       "      <td>5</td>\n",
       "      <td>Yes</td>\n",
       "      <td>147,25</td>\n",
       "      <td>39.0</td>\n",
       "      <td>106.0</td>\n",
       "      <td>78.0</td>\n",
       "      <td>366.0</td>\n",
       "    </tr>\n",
       "    <tr>\n",
       "      <th>2</th>\n",
       "      <td>3</td>\n",
       "      <td>No</td>\n",
       "      <td>Air Miles</td>\n",
       "      <td>Postcard</td>\n",
       "      <td>High</td>\n",
       "      <td>2</td>\n",
       "      <td>No</td>\n",
       "      <td>Medium</td>\n",
       "      <td>2</td>\n",
       "      <td>1</td>\n",
       "      <td>2</td>\n",
       "      <td>Yes</td>\n",
       "      <td>276,5</td>\n",
       "      <td>367.0</td>\n",
       "      <td>352.0</td>\n",
       "      <td>145.0</td>\n",
       "      <td>242.0</td>\n",
       "    </tr>\n",
       "    <tr>\n",
       "      <th>3</th>\n",
       "      <td>4</td>\n",
       "      <td>No</td>\n",
       "      <td>Air Miles</td>\n",
       "      <td>Letter</td>\n",
       "      <td>Medium</td>\n",
       "      <td>2</td>\n",
       "      <td>No</td>\n",
       "      <td>High</td>\n",
       "      <td>1</td>\n",
       "      <td>1</td>\n",
       "      <td>4</td>\n",
       "      <td>No</td>\n",
       "      <td>1219</td>\n",
       "      <td>1578.0</td>\n",
       "      <td>1760.0</td>\n",
       "      <td>1119.0</td>\n",
       "      <td>419.0</td>\n",
       "    </tr>\n",
       "    <tr>\n",
       "      <th>4</th>\n",
       "      <td>5</td>\n",
       "      <td>No</td>\n",
       "      <td>Air Miles</td>\n",
       "      <td>Letter</td>\n",
       "      <td>Medium</td>\n",
       "      <td>1</td>\n",
       "      <td>No</td>\n",
       "      <td>Medium</td>\n",
       "      <td>2</td>\n",
       "      <td>1</td>\n",
       "      <td>6</td>\n",
       "      <td>Yes</td>\n",
       "      <td>1211</td>\n",
       "      <td>2140.0</td>\n",
       "      <td>1357.0</td>\n",
       "      <td>982.0</td>\n",
       "      <td>365.0</td>\n",
       "    </tr>\n",
       "  </tbody>\n",
       "</table>\n",
       "</div>"
      ],
      "text/plain": [
       "   customer_number offer_accepted     reward mailer_type income_level  \\\n",
       "0                1             No  Air Miles      Letter         High   \n",
       "1                2             No  Air Miles      Letter       Medium   \n",
       "2                3             No  Air Miles    Postcard         High   \n",
       "3                4             No  Air Miles      Letter       Medium   \n",
       "4                5             No  Air Miles      Letter       Medium   \n",
       "\n",
       "   n_bank_accounts_open overdraft_protection credit_rating  \\\n",
       "0                     1                   No          High   \n",
       "1                     1                   No        Medium   \n",
       "2                     2                   No        Medium   \n",
       "3                     2                   No          High   \n",
       "4                     1                   No        Medium   \n",
       "\n",
       "   n_credit_cards_held  n_homes_owned  household_size own_your_home  \\\n",
       "0                    2              1               4            No   \n",
       "1                    2              2               5           Yes   \n",
       "2                    2              1               2           Yes   \n",
       "3                    1              1               4            No   \n",
       "4                    2              1               6           Yes   \n",
       "\n",
       "  average_balance  q1_balance  q2_balance  q3_balance  q4_balance  \n",
       "0         1160,75      1669.0       877.0      1095.0      1002.0  \n",
       "1          147,25        39.0       106.0        78.0       366.0  \n",
       "2           276,5       367.0       352.0       145.0       242.0  \n",
       "3            1219      1578.0      1760.0      1119.0       419.0  \n",
       "4            1211      2140.0      1357.0       982.0       365.0  "
      ]
     },
     "execution_count": 6,
     "metadata": {},
     "output_type": "execute_result"
    }
   ],
   "source": [
    "data.head()"
   ]
  },
  {
   "cell_type": "code",
   "execution_count": 7,
   "id": "aging-muslim",
   "metadata": {},
   "outputs": [
    {
     "name": "stdout",
     "output_type": "stream",
     "text": [
      "<class 'pandas.core.frame.DataFrame'>\n",
      "RangeIndex: 18000 entries, 0 to 17999\n",
      "Data columns (total 17 columns):\n",
      " #   Column                Non-Null Count  Dtype  \n",
      "---  ------                --------------  -----  \n",
      " 0   customer_number       18000 non-null  int64  \n",
      " 1   offer_accepted        18000 non-null  object \n",
      " 2   reward                18000 non-null  object \n",
      " 3   mailer_type           18000 non-null  object \n",
      " 4   income_level          18000 non-null  object \n",
      " 5   n_bank_accounts_open  18000 non-null  int64  \n",
      " 6   overdraft_protection  18000 non-null  object \n",
      " 7   credit_rating         18000 non-null  object \n",
      " 8   n_credit_cards_held   18000 non-null  int64  \n",
      " 9   n_homes_owned         18000 non-null  int64  \n",
      " 10  household_size        18000 non-null  int64  \n",
      " 11  own_your_home         18000 non-null  object \n",
      " 12  average_balance       17976 non-null  object \n",
      " 13  q1_balance            17976 non-null  float64\n",
      " 14  q2_balance            17976 non-null  float64\n",
      " 15  q3_balance            17976 non-null  float64\n",
      " 16  q4_balance            17976 non-null  float64\n",
      "dtypes: float64(4), int64(5), object(8)\n",
      "memory usage: 2.3+ MB\n"
     ]
    }
   ],
   "source": [
    "data.info()"
   ]
  },
  {
   "cell_type": "code",
   "execution_count": 8,
   "id": "occasional-month",
   "metadata": {},
   "outputs": [
    {
     "data": {
      "text/plain": [
       "(18000, 17)"
      ]
     },
     "execution_count": 8,
     "metadata": {},
     "output_type": "execute_result"
    }
   ],
   "source": [
    "data.shape"
   ]
  },
  {
   "cell_type": "markdown",
   "id": "chinese-canada",
   "metadata": {},
   "source": [
    "### 1.3 SQL Queries Section"
   ]
  },
  {
   "cell_type": "markdown",
   "id": "qualified-associate",
   "metadata": {},
   "source": [
    "SQL Queries Section"
   ]
  },
  {
   "cell_type": "code",
   "execution_count": 9,
   "id": "liable-component",
   "metadata": {},
   "outputs": [],
   "source": [
    "# connection_string = 'mysql+pymysql://root:' + password + '@localhost/creditcard'\n",
    "\n",
    "# query = 'SELECT * FROM data'\n",
    "\n",
    "# data = pd.read_sql_query(query,connection_string)\n",
    "# data.head()"
   ]
  },
  {
   "cell_type": "code",
   "execution_count": 10,
   "id": "interesting-employer",
   "metadata": {},
   "outputs": [],
   "source": [
    "# data.shape"
   ]
  },
  {
   "cell_type": "markdown",
   "id": "brilliant-green",
   "metadata": {},
   "source": [
    "## 2. Data Cleaning"
   ]
  },
  {
   "cell_type": "markdown",
   "id": "early-threat",
   "metadata": {},
   "source": [
    "### 2.1 Check dataframe dtypes"
   ]
  },
  {
   "cell_type": "code",
   "execution_count": 11,
   "id": "phantom-wrestling",
   "metadata": {},
   "outputs": [
    {
     "data": {
      "text/plain": [
       "customer_number           int64\n",
       "offer_accepted           object\n",
       "reward                   object\n",
       "mailer_type              object\n",
       "income_level             object\n",
       "n_bank_accounts_open      int64\n",
       "overdraft_protection     object\n",
       "credit_rating            object\n",
       "n_credit_cards_held       int64\n",
       "n_homes_owned             int64\n",
       "household_size            int64\n",
       "own_your_home            object\n",
       "average_balance          object\n",
       "q1_balance              float64\n",
       "q2_balance              float64\n",
       "q3_balance              float64\n",
       "q4_balance              float64\n",
       "dtype: object"
      ]
     },
     "execution_count": 11,
     "metadata": {},
     "output_type": "execute_result"
    }
   ],
   "source": [
    "data.dtypes"
   ]
  },
  {
   "cell_type": "markdown",
   "id": "acquired-destination",
   "metadata": {},
   "source": [
    "### 2.2 Fix wrong dtypes"
   ]
  },
  {
   "cell_type": "markdown",
   "id": "isolated-rendering",
   "metadata": {},
   "source": [
    "2.2.1 The column 'average_balance' dtype is object, but it should be float64. This is because the .csv file had dots instead of commas, so we use **replace** to fix it and then change the dtype."
   ]
  },
  {
   "cell_type": "code",
   "execution_count": 12,
   "id": "exclusive-passenger",
   "metadata": {},
   "outputs": [],
   "source": [
    "data['average_balance'] = data['average_balance'].str.replace(',','.')\n",
    "data['average_balance'] = data['average_balance'].astype(np.float)"
   ]
  },
  {
   "cell_type": "code",
   "execution_count": 13,
   "id": "choice-campus",
   "metadata": {},
   "outputs": [
    {
     "data": {
      "text/plain": [
       "customer_number           int64\n",
       "offer_accepted           object\n",
       "reward                   object\n",
       "mailer_type              object\n",
       "income_level             object\n",
       "n_bank_accounts_open      int64\n",
       "overdraft_protection     object\n",
       "credit_rating            object\n",
       "n_credit_cards_held       int64\n",
       "n_homes_owned             int64\n",
       "household_size            int64\n",
       "own_your_home            object\n",
       "average_balance         float64\n",
       "q1_balance              float64\n",
       "q2_balance              float64\n",
       "q3_balance              float64\n",
       "q4_balance              float64\n",
       "dtype: object"
      ]
     },
     "execution_count": 13,
     "metadata": {},
     "output_type": "execute_result"
    }
   ],
   "source": [
    "data.dtypes"
   ]
  },
  {
   "cell_type": "markdown",
   "id": "ordinary-simpson",
   "metadata": {},
   "source": [
    "### 2.3 Deal with null values"
   ]
  },
  {
   "cell_type": "markdown",
   "id": "primary-melissa",
   "metadata": {},
   "source": [
    "2.3.1 Calculate the percentage of null values among columns."
   ]
  },
  {
   "cell_type": "code",
   "execution_count": 14,
   "id": "consecutive-eating",
   "metadata": {},
   "outputs": [
    {
     "data": {
      "text/plain": [
       "customer_number         0.000000\n",
       "offer_accepted          0.000000\n",
       "reward                  0.000000\n",
       "mailer_type             0.000000\n",
       "income_level            0.000000\n",
       "n_bank_accounts_open    0.000000\n",
       "overdraft_protection    0.000000\n",
       "credit_rating           0.000000\n",
       "n_credit_cards_held     0.000000\n",
       "n_homes_owned           0.000000\n",
       "household_size          0.000000\n",
       "own_your_home           0.000000\n",
       "average_balance         0.133333\n",
       "q1_balance              0.133333\n",
       "q2_balance              0.133333\n",
       "q3_balance              0.133333\n",
       "q4_balance              0.133333\n",
       "dtype: float64"
      ]
     },
     "execution_count": 14,
     "metadata": {},
     "output_type": "execute_result"
    }
   ],
   "source": [
    "data.isna().sum()/data.shape[0]*100"
   ]
  },
  {
   "cell_type": "markdown",
   "id": "clean-excerpt",
   "metadata": {},
   "source": [
    "2.3.2 The balance columns have null values. We decide to replace them with the mean of the column."
   ]
  },
  {
   "cell_type": "code",
   "execution_count": 15,
   "id": "neutral-navigator",
   "metadata": {},
   "outputs": [],
   "source": [
    "for i in ('average_balance', 'q1_balance', 'q2_balance', 'q3_balance', 'q4_balance'):\n",
    "    data[i] = data[i].fillna(np.mean(data[i]))"
   ]
  },
  {
   "cell_type": "code",
   "execution_count": 16,
   "id": "fixed-temperature",
   "metadata": {},
   "outputs": [
    {
     "data": {
      "text/plain": [
       "customer_number         0.0\n",
       "offer_accepted          0.0\n",
       "reward                  0.0\n",
       "mailer_type             0.0\n",
       "income_level            0.0\n",
       "n_bank_accounts_open    0.0\n",
       "overdraft_protection    0.0\n",
       "credit_rating           0.0\n",
       "n_credit_cards_held     0.0\n",
       "n_homes_owned           0.0\n",
       "household_size          0.0\n",
       "own_your_home           0.0\n",
       "average_balance         0.0\n",
       "q1_balance              0.0\n",
       "q2_balance              0.0\n",
       "q3_balance              0.0\n",
       "q4_balance              0.0\n",
       "dtype: float64"
      ]
     },
     "execution_count": 16,
     "metadata": {},
     "output_type": "execute_result"
    }
   ],
   "source": [
    "# Now there should be 0 NaN values\n",
    "data.isna().sum()/data.shape[0]*100"
   ]
  },
  {
   "cell_type": "markdown",
   "id": "twenty-store",
   "metadata": {},
   "source": [
    "### 2.4 Saving the clean dataframe into a new .csv file to use with Tableau and other software."
   ]
  },
  {
   "cell_type": "markdown",
   "id": "lucky-europe",
   "metadata": {},
   "source": [
    "2.4.1 Create the .csv file"
   ]
  },
  {
   "cell_type": "code",
   "execution_count": 17,
   "id": "comprehensive-lindsay",
   "metadata": {},
   "outputs": [],
   "source": [
    "data.to_csv('files/creditcardmarketing_final.csv', index=False)"
   ]
  },
  {
   "cell_type": "markdown",
   "id": "official-arena",
   "metadata": {},
   "source": [
    "2.4.2 Load it again to make sure it's correct. Check with **head**."
   ]
  },
  {
   "cell_type": "code",
   "execution_count": 18,
   "id": "homeless-bookmark",
   "metadata": {},
   "outputs": [
    {
     "data": {
      "text/html": [
       "<div>\n",
       "<style scoped>\n",
       "    .dataframe tbody tr th:only-of-type {\n",
       "        vertical-align: middle;\n",
       "    }\n",
       "\n",
       "    .dataframe tbody tr th {\n",
       "        vertical-align: top;\n",
       "    }\n",
       "\n",
       "    .dataframe thead th {\n",
       "        text-align: right;\n",
       "    }\n",
       "</style>\n",
       "<table border=\"1\" class=\"dataframe\">\n",
       "  <thead>\n",
       "    <tr style=\"text-align: right;\">\n",
       "      <th></th>\n",
       "      <th>customer_number</th>\n",
       "      <th>offer_accepted</th>\n",
       "      <th>reward</th>\n",
       "      <th>mailer_type</th>\n",
       "      <th>income_level</th>\n",
       "      <th>n_bank_accounts_open</th>\n",
       "      <th>overdraft_protection</th>\n",
       "      <th>credit_rating</th>\n",
       "      <th>n_credit_cards_held</th>\n",
       "      <th>n_homes_owned</th>\n",
       "      <th>household_size</th>\n",
       "      <th>own_your_home</th>\n",
       "      <th>average_balance</th>\n",
       "      <th>q1_balance</th>\n",
       "      <th>q2_balance</th>\n",
       "      <th>q3_balance</th>\n",
       "      <th>q4_balance</th>\n",
       "    </tr>\n",
       "  </thead>\n",
       "  <tbody>\n",
       "    <tr>\n",
       "      <th>0</th>\n",
       "      <td>1</td>\n",
       "      <td>No</td>\n",
       "      <td>Air Miles</td>\n",
       "      <td>Letter</td>\n",
       "      <td>High</td>\n",
       "      <td>1</td>\n",
       "      <td>No</td>\n",
       "      <td>High</td>\n",
       "      <td>2</td>\n",
       "      <td>1</td>\n",
       "      <td>4</td>\n",
       "      <td>No</td>\n",
       "      <td>1160.75</td>\n",
       "      <td>1669.0</td>\n",
       "      <td>877.0</td>\n",
       "      <td>1095.0</td>\n",
       "      <td>1002.0</td>\n",
       "    </tr>\n",
       "    <tr>\n",
       "      <th>1</th>\n",
       "      <td>2</td>\n",
       "      <td>No</td>\n",
       "      <td>Air Miles</td>\n",
       "      <td>Letter</td>\n",
       "      <td>Medium</td>\n",
       "      <td>1</td>\n",
       "      <td>No</td>\n",
       "      <td>Medium</td>\n",
       "      <td>2</td>\n",
       "      <td>2</td>\n",
       "      <td>5</td>\n",
       "      <td>Yes</td>\n",
       "      <td>147.25</td>\n",
       "      <td>39.0</td>\n",
       "      <td>106.0</td>\n",
       "      <td>78.0</td>\n",
       "      <td>366.0</td>\n",
       "    </tr>\n",
       "    <tr>\n",
       "      <th>2</th>\n",
       "      <td>3</td>\n",
       "      <td>No</td>\n",
       "      <td>Air Miles</td>\n",
       "      <td>Postcard</td>\n",
       "      <td>High</td>\n",
       "      <td>2</td>\n",
       "      <td>No</td>\n",
       "      <td>Medium</td>\n",
       "      <td>2</td>\n",
       "      <td>1</td>\n",
       "      <td>2</td>\n",
       "      <td>Yes</td>\n",
       "      <td>276.50</td>\n",
       "      <td>367.0</td>\n",
       "      <td>352.0</td>\n",
       "      <td>145.0</td>\n",
       "      <td>242.0</td>\n",
       "    </tr>\n",
       "    <tr>\n",
       "      <th>3</th>\n",
       "      <td>4</td>\n",
       "      <td>No</td>\n",
       "      <td>Air Miles</td>\n",
       "      <td>Letter</td>\n",
       "      <td>Medium</td>\n",
       "      <td>2</td>\n",
       "      <td>No</td>\n",
       "      <td>High</td>\n",
       "      <td>1</td>\n",
       "      <td>1</td>\n",
       "      <td>4</td>\n",
       "      <td>No</td>\n",
       "      <td>1219.00</td>\n",
       "      <td>1578.0</td>\n",
       "      <td>1760.0</td>\n",
       "      <td>1119.0</td>\n",
       "      <td>419.0</td>\n",
       "    </tr>\n",
       "    <tr>\n",
       "      <th>4</th>\n",
       "      <td>5</td>\n",
       "      <td>No</td>\n",
       "      <td>Air Miles</td>\n",
       "      <td>Letter</td>\n",
       "      <td>Medium</td>\n",
       "      <td>1</td>\n",
       "      <td>No</td>\n",
       "      <td>Medium</td>\n",
       "      <td>2</td>\n",
       "      <td>1</td>\n",
       "      <td>6</td>\n",
       "      <td>Yes</td>\n",
       "      <td>1211.00</td>\n",
       "      <td>2140.0</td>\n",
       "      <td>1357.0</td>\n",
       "      <td>982.0</td>\n",
       "      <td>365.0</td>\n",
       "    </tr>\n",
       "  </tbody>\n",
       "</table>\n",
       "</div>"
      ],
      "text/plain": [
       "   customer_number offer_accepted     reward mailer_type income_level  \\\n",
       "0                1             No  Air Miles      Letter         High   \n",
       "1                2             No  Air Miles      Letter       Medium   \n",
       "2                3             No  Air Miles    Postcard         High   \n",
       "3                4             No  Air Miles      Letter       Medium   \n",
       "4                5             No  Air Miles      Letter       Medium   \n",
       "\n",
       "   n_bank_accounts_open overdraft_protection credit_rating  \\\n",
       "0                     1                   No          High   \n",
       "1                     1                   No        Medium   \n",
       "2                     2                   No        Medium   \n",
       "3                     2                   No          High   \n",
       "4                     1                   No        Medium   \n",
       "\n",
       "   n_credit_cards_held  n_homes_owned  household_size own_your_home  \\\n",
       "0                    2              1               4            No   \n",
       "1                    2              2               5           Yes   \n",
       "2                    2              1               2           Yes   \n",
       "3                    1              1               4            No   \n",
       "4                    2              1               6           Yes   \n",
       "\n",
       "   average_balance  q1_balance  q2_balance  q3_balance  q4_balance  \n",
       "0          1160.75      1669.0       877.0      1095.0      1002.0  \n",
       "1           147.25        39.0       106.0        78.0       366.0  \n",
       "2           276.50       367.0       352.0       145.0       242.0  \n",
       "3          1219.00      1578.0      1760.0      1119.0       419.0  \n",
       "4          1211.00      2140.0      1357.0       982.0       365.0  "
      ]
     },
     "execution_count": 18,
     "metadata": {},
     "output_type": "execute_result"
    }
   ],
   "source": [
    "data = pd.read_csv('files/creditcardmarketing_final.csv')\n",
    "data.head()"
   ]
  },
  {
   "cell_type": "code",
   "execution_count": 19,
   "id": "previous-spyware",
   "metadata": {},
   "outputs": [
    {
     "data": {
      "text/html": [
       "<div>\n",
       "<style scoped>\n",
       "    .dataframe tbody tr th:only-of-type {\n",
       "        vertical-align: middle;\n",
       "    }\n",
       "\n",
       "    .dataframe tbody tr th {\n",
       "        vertical-align: top;\n",
       "    }\n",
       "\n",
       "    .dataframe thead th {\n",
       "        text-align: right;\n",
       "    }\n",
       "</style>\n",
       "<table border=\"1\" class=\"dataframe\">\n",
       "  <thead>\n",
       "    <tr style=\"text-align: right;\">\n",
       "      <th></th>\n",
       "      <th>customer_number</th>\n",
       "      <th>offer_accepted</th>\n",
       "      <th>reward</th>\n",
       "      <th>mailer_type</th>\n",
       "      <th>income_level</th>\n",
       "      <th>n_bank_accounts_open</th>\n",
       "      <th>overdraft_protection</th>\n",
       "      <th>credit_rating</th>\n",
       "      <th>n_credit_cards_held</th>\n",
       "      <th>n_homes_owned</th>\n",
       "      <th>household_size</th>\n",
       "      <th>own_your_home</th>\n",
       "      <th>average_balance</th>\n",
       "      <th>q1_balance</th>\n",
       "      <th>q2_balance</th>\n",
       "      <th>q3_balance</th>\n",
       "      <th>q4_balance</th>\n",
       "    </tr>\n",
       "  </thead>\n",
       "  <tbody>\n",
       "    <tr>\n",
       "      <th>0</th>\n",
       "      <td>1</td>\n",
       "      <td>No</td>\n",
       "      <td>Air Miles</td>\n",
       "      <td>Letter</td>\n",
       "      <td>High</td>\n",
       "      <td>1</td>\n",
       "      <td>No</td>\n",
       "      <td>High</td>\n",
       "      <td>2</td>\n",
       "      <td>1</td>\n",
       "      <td>4</td>\n",
       "      <td>No</td>\n",
       "      <td>1160.75</td>\n",
       "      <td>1669.0</td>\n",
       "      <td>877.0</td>\n",
       "      <td>1095.0</td>\n",
       "      <td>1002.0</td>\n",
       "    </tr>\n",
       "    <tr>\n",
       "      <th>1</th>\n",
       "      <td>2</td>\n",
       "      <td>No</td>\n",
       "      <td>Air Miles</td>\n",
       "      <td>Letter</td>\n",
       "      <td>Medium</td>\n",
       "      <td>1</td>\n",
       "      <td>No</td>\n",
       "      <td>Medium</td>\n",
       "      <td>2</td>\n",
       "      <td>2</td>\n",
       "      <td>5</td>\n",
       "      <td>Yes</td>\n",
       "      <td>147.25</td>\n",
       "      <td>39.0</td>\n",
       "      <td>106.0</td>\n",
       "      <td>78.0</td>\n",
       "      <td>366.0</td>\n",
       "    </tr>\n",
       "    <tr>\n",
       "      <th>2</th>\n",
       "      <td>3</td>\n",
       "      <td>No</td>\n",
       "      <td>Air Miles</td>\n",
       "      <td>Postcard</td>\n",
       "      <td>High</td>\n",
       "      <td>2</td>\n",
       "      <td>No</td>\n",
       "      <td>Medium</td>\n",
       "      <td>2</td>\n",
       "      <td>1</td>\n",
       "      <td>2</td>\n",
       "      <td>Yes</td>\n",
       "      <td>276.50</td>\n",
       "      <td>367.0</td>\n",
       "      <td>352.0</td>\n",
       "      <td>145.0</td>\n",
       "      <td>242.0</td>\n",
       "    </tr>\n",
       "    <tr>\n",
       "      <th>3</th>\n",
       "      <td>4</td>\n",
       "      <td>No</td>\n",
       "      <td>Air Miles</td>\n",
       "      <td>Letter</td>\n",
       "      <td>Medium</td>\n",
       "      <td>2</td>\n",
       "      <td>No</td>\n",
       "      <td>High</td>\n",
       "      <td>1</td>\n",
       "      <td>1</td>\n",
       "      <td>4</td>\n",
       "      <td>No</td>\n",
       "      <td>1219.00</td>\n",
       "      <td>1578.0</td>\n",
       "      <td>1760.0</td>\n",
       "      <td>1119.0</td>\n",
       "      <td>419.0</td>\n",
       "    </tr>\n",
       "    <tr>\n",
       "      <th>4</th>\n",
       "      <td>5</td>\n",
       "      <td>No</td>\n",
       "      <td>Air Miles</td>\n",
       "      <td>Letter</td>\n",
       "      <td>Medium</td>\n",
       "      <td>1</td>\n",
       "      <td>No</td>\n",
       "      <td>Medium</td>\n",
       "      <td>2</td>\n",
       "      <td>1</td>\n",
       "      <td>6</td>\n",
       "      <td>Yes</td>\n",
       "      <td>1211.00</td>\n",
       "      <td>2140.0</td>\n",
       "      <td>1357.0</td>\n",
       "      <td>982.0</td>\n",
       "      <td>365.0</td>\n",
       "    </tr>\n",
       "  </tbody>\n",
       "</table>\n",
       "</div>"
      ],
      "text/plain": [
       "   customer_number offer_accepted     reward mailer_type income_level  \\\n",
       "0                1             No  Air Miles      Letter         High   \n",
       "1                2             No  Air Miles      Letter       Medium   \n",
       "2                3             No  Air Miles    Postcard         High   \n",
       "3                4             No  Air Miles      Letter       Medium   \n",
       "4                5             No  Air Miles      Letter       Medium   \n",
       "\n",
       "   n_bank_accounts_open overdraft_protection credit_rating  \\\n",
       "0                     1                   No          High   \n",
       "1                     1                   No        Medium   \n",
       "2                     2                   No        Medium   \n",
       "3                     2                   No          High   \n",
       "4                     1                   No        Medium   \n",
       "\n",
       "   n_credit_cards_held  n_homes_owned  household_size own_your_home  \\\n",
       "0                    2              1               4            No   \n",
       "1                    2              2               5           Yes   \n",
       "2                    2              1               2           Yes   \n",
       "3                    1              1               4            No   \n",
       "4                    2              1               6           Yes   \n",
       "\n",
       "   average_balance  q1_balance  q2_balance  q3_balance  q4_balance  \n",
       "0          1160.75      1669.0       877.0      1095.0      1002.0  \n",
       "1           147.25        39.0       106.0        78.0       366.0  \n",
       "2           276.50       367.0       352.0       145.0       242.0  \n",
       "3          1219.00      1578.0      1760.0      1119.0       419.0  \n",
       "4          1211.00      2140.0      1357.0       982.0       365.0  "
      ]
     },
     "execution_count": 19,
     "metadata": {},
     "output_type": "execute_result"
    }
   ],
   "source": [
    "data.head()"
   ]
  },
  {
   "cell_type": "markdown",
   "id": "insured-blowing",
   "metadata": {},
   "source": [
    "**Important:** At the same time we're going to keep a separate set of features composed of only the ones that we consider are the most important, meaning 'income_level', 'mailer_type' and 'reward_type'. This set of minimal features will be **X_min**."
   ]
  },
  {
   "cell_type": "code",
   "execution_count": 20,
   "id": "molecular-status",
   "metadata": {},
   "outputs": [
    {
     "data": {
      "text/html": [
       "<div>\n",
       "<style scoped>\n",
       "    .dataframe tbody tr th:only-of-type {\n",
       "        vertical-align: middle;\n",
       "    }\n",
       "\n",
       "    .dataframe tbody tr th {\n",
       "        vertical-align: top;\n",
       "    }\n",
       "\n",
       "    .dataframe thead th {\n",
       "        text-align: right;\n",
       "    }\n",
       "</style>\n",
       "<table border=\"1\" class=\"dataframe\">\n",
       "  <thead>\n",
       "    <tr style=\"text-align: right;\">\n",
       "      <th></th>\n",
       "      <th>offer_accepted</th>\n",
       "      <th>reward</th>\n",
       "      <th>mailer_type</th>\n",
       "      <th>income_level</th>\n",
       "    </tr>\n",
       "  </thead>\n",
       "  <tbody>\n",
       "    <tr>\n",
       "      <th>0</th>\n",
       "      <td>No</td>\n",
       "      <td>Air Miles</td>\n",
       "      <td>Letter</td>\n",
       "      <td>High</td>\n",
       "    </tr>\n",
       "    <tr>\n",
       "      <th>1</th>\n",
       "      <td>No</td>\n",
       "      <td>Air Miles</td>\n",
       "      <td>Letter</td>\n",
       "      <td>Medium</td>\n",
       "    </tr>\n",
       "    <tr>\n",
       "      <th>2</th>\n",
       "      <td>No</td>\n",
       "      <td>Air Miles</td>\n",
       "      <td>Postcard</td>\n",
       "      <td>High</td>\n",
       "    </tr>\n",
       "    <tr>\n",
       "      <th>3</th>\n",
       "      <td>No</td>\n",
       "      <td>Air Miles</td>\n",
       "      <td>Letter</td>\n",
       "      <td>Medium</td>\n",
       "    </tr>\n",
       "    <tr>\n",
       "      <th>4</th>\n",
       "      <td>No</td>\n",
       "      <td>Air Miles</td>\n",
       "      <td>Letter</td>\n",
       "      <td>Medium</td>\n",
       "    </tr>\n",
       "  </tbody>\n",
       "</table>\n",
       "</div>"
      ],
      "text/plain": [
       "  offer_accepted     reward mailer_type income_level\n",
       "0             No  Air Miles      Letter         High\n",
       "1             No  Air Miles      Letter       Medium\n",
       "2             No  Air Miles    Postcard         High\n",
       "3             No  Air Miles      Letter       Medium\n",
       "4             No  Air Miles      Letter       Medium"
      ]
     },
     "execution_count": 20,
     "metadata": {},
     "output_type": "execute_result"
    }
   ],
   "source": [
    "X_min = data.copy()\n",
    "X_min = X_min.drop(['customer_number', 'n_bank_accounts_open', 'overdraft_protection',\n",
    "                  'credit_rating', 'n_credit_cards_held', 'n_homes_owned',\n",
    "                  'household_size', 'own_your_home', 'average_balance', 'q1_balance',\n",
    "                  'q2_balance', 'q3_balance', 'q4_balance'], axis=1)\n",
    "X_min.head()"
   ]
  },
  {
   "cell_type": "markdown",
   "id": "numeric-johnston",
   "metadata": {},
   "source": [
    "## 3. Separate the variables into **numerical** and **categorical**"
   ]
  },
  {
   "cell_type": "markdown",
   "id": "national-examination",
   "metadata": {},
   "source": [
    "We call the numerical variables **X_num** and the categorical ones **X_cat**"
   ]
  },
  {
   "cell_type": "code",
   "execution_count": 21,
   "id": "cleared-tutorial",
   "metadata": {},
   "outputs": [
    {
     "data": {
      "text/html": [
       "<div>\n",
       "<style scoped>\n",
       "    .dataframe tbody tr th:only-of-type {\n",
       "        vertical-align: middle;\n",
       "    }\n",
       "\n",
       "    .dataframe tbody tr th {\n",
       "        vertical-align: top;\n",
       "    }\n",
       "\n",
       "    .dataframe thead th {\n",
       "        text-align: right;\n",
       "    }\n",
       "</style>\n",
       "<table border=\"1\" class=\"dataframe\">\n",
       "  <thead>\n",
       "    <tr style=\"text-align: right;\">\n",
       "      <th></th>\n",
       "      <th>customer_number</th>\n",
       "      <th>n_bank_accounts_open</th>\n",
       "      <th>n_credit_cards_held</th>\n",
       "      <th>n_homes_owned</th>\n",
       "      <th>household_size</th>\n",
       "      <th>average_balance</th>\n",
       "      <th>q1_balance</th>\n",
       "      <th>q2_balance</th>\n",
       "      <th>q3_balance</th>\n",
       "      <th>q4_balance</th>\n",
       "    </tr>\n",
       "  </thead>\n",
       "  <tbody>\n",
       "    <tr>\n",
       "      <th>0</th>\n",
       "      <td>1</td>\n",
       "      <td>1</td>\n",
       "      <td>2</td>\n",
       "      <td>1</td>\n",
       "      <td>4</td>\n",
       "      <td>1160.75</td>\n",
       "      <td>1669.0</td>\n",
       "      <td>877.0</td>\n",
       "      <td>1095.0</td>\n",
       "      <td>1002.0</td>\n",
       "    </tr>\n",
       "    <tr>\n",
       "      <th>1</th>\n",
       "      <td>2</td>\n",
       "      <td>1</td>\n",
       "      <td>2</td>\n",
       "      <td>2</td>\n",
       "      <td>5</td>\n",
       "      <td>147.25</td>\n",
       "      <td>39.0</td>\n",
       "      <td>106.0</td>\n",
       "      <td>78.0</td>\n",
       "      <td>366.0</td>\n",
       "    </tr>\n",
       "    <tr>\n",
       "      <th>2</th>\n",
       "      <td>3</td>\n",
       "      <td>2</td>\n",
       "      <td>2</td>\n",
       "      <td>1</td>\n",
       "      <td>2</td>\n",
       "      <td>276.50</td>\n",
       "      <td>367.0</td>\n",
       "      <td>352.0</td>\n",
       "      <td>145.0</td>\n",
       "      <td>242.0</td>\n",
       "    </tr>\n",
       "    <tr>\n",
       "      <th>3</th>\n",
       "      <td>4</td>\n",
       "      <td>2</td>\n",
       "      <td>1</td>\n",
       "      <td>1</td>\n",
       "      <td>4</td>\n",
       "      <td>1219.00</td>\n",
       "      <td>1578.0</td>\n",
       "      <td>1760.0</td>\n",
       "      <td>1119.0</td>\n",
       "      <td>419.0</td>\n",
       "    </tr>\n",
       "    <tr>\n",
       "      <th>4</th>\n",
       "      <td>5</td>\n",
       "      <td>1</td>\n",
       "      <td>2</td>\n",
       "      <td>1</td>\n",
       "      <td>6</td>\n",
       "      <td>1211.00</td>\n",
       "      <td>2140.0</td>\n",
       "      <td>1357.0</td>\n",
       "      <td>982.0</td>\n",
       "      <td>365.0</td>\n",
       "    </tr>\n",
       "  </tbody>\n",
       "</table>\n",
       "</div>"
      ],
      "text/plain": [
       "   customer_number  n_bank_accounts_open  n_credit_cards_held  n_homes_owned  \\\n",
       "0                1                     1                    2              1   \n",
       "1                2                     1                    2              2   \n",
       "2                3                     2                    2              1   \n",
       "3                4                     2                    1              1   \n",
       "4                5                     1                    2              1   \n",
       "\n",
       "   household_size  average_balance  q1_balance  q2_balance  q3_balance  \\\n",
       "0               4          1160.75      1669.0       877.0      1095.0   \n",
       "1               5           147.25        39.0       106.0        78.0   \n",
       "2               2           276.50       367.0       352.0       145.0   \n",
       "3               4          1219.00      1578.0      1760.0      1119.0   \n",
       "4               6          1211.00      2140.0      1357.0       982.0   \n",
       "\n",
       "   q4_balance  \n",
       "0      1002.0  \n",
       "1       366.0  \n",
       "2       242.0  \n",
       "3       419.0  \n",
       "4       365.0  "
      ]
     },
     "execution_count": 21,
     "metadata": {},
     "output_type": "execute_result"
    }
   ],
   "source": [
    "X_num = data.select_dtypes(include=np.number)\n",
    "X_num.head()"
   ]
  },
  {
   "cell_type": "code",
   "execution_count": 22,
   "id": "lined-warren",
   "metadata": {},
   "outputs": [
    {
     "data": {
      "text/html": [
       "<div>\n",
       "<style scoped>\n",
       "    .dataframe tbody tr th:only-of-type {\n",
       "        vertical-align: middle;\n",
       "    }\n",
       "\n",
       "    .dataframe tbody tr th {\n",
       "        vertical-align: top;\n",
       "    }\n",
       "\n",
       "    .dataframe thead th {\n",
       "        text-align: right;\n",
       "    }\n",
       "</style>\n",
       "<table border=\"1\" class=\"dataframe\">\n",
       "  <thead>\n",
       "    <tr style=\"text-align: right;\">\n",
       "      <th></th>\n",
       "      <th>offer_accepted</th>\n",
       "      <th>reward</th>\n",
       "      <th>mailer_type</th>\n",
       "      <th>income_level</th>\n",
       "      <th>overdraft_protection</th>\n",
       "      <th>credit_rating</th>\n",
       "      <th>own_your_home</th>\n",
       "    </tr>\n",
       "  </thead>\n",
       "  <tbody>\n",
       "    <tr>\n",
       "      <th>0</th>\n",
       "      <td>No</td>\n",
       "      <td>Air Miles</td>\n",
       "      <td>Letter</td>\n",
       "      <td>High</td>\n",
       "      <td>No</td>\n",
       "      <td>High</td>\n",
       "      <td>No</td>\n",
       "    </tr>\n",
       "    <tr>\n",
       "      <th>1</th>\n",
       "      <td>No</td>\n",
       "      <td>Air Miles</td>\n",
       "      <td>Letter</td>\n",
       "      <td>Medium</td>\n",
       "      <td>No</td>\n",
       "      <td>Medium</td>\n",
       "      <td>Yes</td>\n",
       "    </tr>\n",
       "    <tr>\n",
       "      <th>2</th>\n",
       "      <td>No</td>\n",
       "      <td>Air Miles</td>\n",
       "      <td>Postcard</td>\n",
       "      <td>High</td>\n",
       "      <td>No</td>\n",
       "      <td>Medium</td>\n",
       "      <td>Yes</td>\n",
       "    </tr>\n",
       "    <tr>\n",
       "      <th>3</th>\n",
       "      <td>No</td>\n",
       "      <td>Air Miles</td>\n",
       "      <td>Letter</td>\n",
       "      <td>Medium</td>\n",
       "      <td>No</td>\n",
       "      <td>High</td>\n",
       "      <td>No</td>\n",
       "    </tr>\n",
       "    <tr>\n",
       "      <th>4</th>\n",
       "      <td>No</td>\n",
       "      <td>Air Miles</td>\n",
       "      <td>Letter</td>\n",
       "      <td>Medium</td>\n",
       "      <td>No</td>\n",
       "      <td>Medium</td>\n",
       "      <td>Yes</td>\n",
       "    </tr>\n",
       "  </tbody>\n",
       "</table>\n",
       "</div>"
      ],
      "text/plain": [
       "  offer_accepted     reward mailer_type income_level overdraft_protection  \\\n",
       "0             No  Air Miles      Letter         High                   No   \n",
       "1             No  Air Miles      Letter       Medium                   No   \n",
       "2             No  Air Miles    Postcard         High                   No   \n",
       "3             No  Air Miles      Letter       Medium                   No   \n",
       "4             No  Air Miles      Letter       Medium                   No   \n",
       "\n",
       "  credit_rating own_your_home  \n",
       "0          High            No  \n",
       "1        Medium           Yes  \n",
       "2        Medium           Yes  \n",
       "3          High            No  \n",
       "4        Medium           Yes  "
      ]
     },
     "execution_count": 22,
     "metadata": {},
     "output_type": "execute_result"
    }
   ],
   "source": [
    "X_cat = data.select_dtypes(include=(np.object, np.bool))\n",
    "X_cat.head()"
   ]
  },
  {
   "cell_type": "markdown",
   "id": "ancient-philippines",
   "metadata": {},
   "source": [
    "Check that no column is lost in the split"
   ]
  },
  {
   "cell_type": "code",
   "execution_count": 23,
   "id": "functioning-appointment",
   "metadata": {},
   "outputs": [
    {
     "name": "stdout",
     "output_type": "stream",
     "text": [
      "(18000, 17) (18000, 10) (18000, 7)\n"
     ]
    }
   ],
   "source": [
    "print(data.shape, X_num.shape, X_cat.shape)"
   ]
  },
  {
   "cell_type": "markdown",
   "id": "cellular-annex",
   "metadata": {},
   "source": [
    "## 4. Data wrangling"
   ]
  },
  {
   "cell_type": "markdown",
   "id": "champion-presentation",
   "metadata": {},
   "source": [
    "### 4.1 Numerical variables "
   ]
  },
  {
   "cell_type": "markdown",
   "id": "spread-sound",
   "metadata": {},
   "source": [
    "4.1.1 Drop useless columns"
   ]
  },
  {
   "cell_type": "code",
   "execution_count": 24,
   "id": "casual-adventure",
   "metadata": {},
   "outputs": [],
   "source": [
    "# customer_number is just an index so not a predictor\n",
    "X_num = X_num.drop('customer_number', axis=1)"
   ]
  },
  {
   "cell_type": "markdown",
   "id": "cosmetic-receiver",
   "metadata": {},
   "source": [
    "4.1.2 Check for correlations in numerical variables"
   ]
  },
  {
   "cell_type": "markdown",
   "id": "native-donna",
   "metadata": {},
   "source": [
    "Include the target to see it's correlation with the variables\n",
    "To do so we transform it to 0s and 1s with get_dummies"
   ]
  },
  {
   "cell_type": "code",
   "execution_count": 25,
   "id": "victorian-wheat",
   "metadata": {},
   "outputs": [],
   "source": [
    "X_num['offer_accepted'] = pd.get_dummies(data['offer_accepted'], drop_first=True)"
   ]
  },
  {
   "cell_type": "code",
   "execution_count": 26,
   "id": "nervous-necessity",
   "metadata": {
    "scrolled": false
   },
   "outputs": [
    {
     "data": {
      "image/png": "[encoded data removed]",
      "text/plain": [
       "<Figure size 432x432 with 2 Axes>"
      ]
     },
     "metadata": {},
     "output_type": "display_data"
    }
   ],
   "source": [
    "def plot_heatmap(df, size):\n",
    "    corr = df.corr().round(2)\n",
    "    mask = np.zeros_like(corr)\n",
    "    mask[np.triu_indices_from(mask, k=1)] = True\n",
    "\n",
    "    with sns.axes_style(\"white\"):\n",
    "        f, ax = plt.subplots(figsize=(size, size))\n",
    "        ax = sns.heatmap(corr, mask=mask, center=0, vmin=0, vmax=1, annot=True, square=True,\n",
    "                         linewidths=1, annot_kws={'fontsize':'large'}, cmap='rocket',\n",
    "                         cbar_kws={\"orientation\": \"vertical\", 'fraction': 0.03, 'label': 'Correlation'}\n",
    "                        )\n",
    "\n",
    "plot_heatmap(X_num, 6)"
   ]
  },
  {
   "cell_type": "markdown",
   "id": "intimate-jackson",
   "metadata": {},
   "source": [
    "The column 'average_balance' shows a high correlation with the quartal balances, which is obvious as it is just the mean of it's sum. So we drop it."
   ]
  },
  {
   "cell_type": "code",
   "execution_count": 27,
   "id": "fancy-stretch",
   "metadata": {},
   "outputs": [
    {
     "data": {
      "image/png": "[encoded data removed]",
      "text/plain": [
       "<Figure size 432x432 with 2 Axes>"
      ]
     },
     "metadata": {},
     "output_type": "display_data"
    }
   ],
   "source": [
    "X_num = X_num.drop(['average_balance'], axis=1)\n",
    "plot_heatmap(X_num, 6)"
   ]
  },
  {
   "cell_type": "markdown",
   "id": "collect-number",
   "metadata": {},
   "source": [
    "Now that we already checked the correlations, we can remove the target again"
   ]
  },
  {
   "cell_type": "code",
   "execution_count": 28,
   "id": "finite-commons",
   "metadata": {},
   "outputs": [],
   "source": [
    "X_num = X_num.drop('offer_accepted', axis=1)"
   ]
  },
  {
   "cell_type": "markdown",
   "id": "plastic-abuse",
   "metadata": {},
   "source": [
    "4.1.3 Dealing with discrete variables"
   ]
  },
  {
   "cell_type": "markdown",
   "id": "computational-finger",
   "metadata": {},
   "source": [
    "Which ones in X_num are discrete?"
   ]
  },
  {
   "cell_type": "code",
   "execution_count": 29,
   "id": "noted-captain",
   "metadata": {},
   "outputs": [
    {
     "data": {
      "text/plain": [
       "['n_bank_accounts_open: [1, 2, 3]--> DISCRETE',\n",
       " 'n_credit_cards_held: [2, 1, 3, 4]--> DISCRETE',\n",
       " 'n_homes_owned: [1, 2, 3]--> DISCRETE',\n",
       " 'household_size: [4, 5, 2, 6, 3, 1, 8, 9]--> DISCRETE',\n",
       " 'q1_balance More than 20 unique values...',\n",
       " 'q2_balance More than 20 unique values...',\n",
       " 'q3_balance More than 20 unique values...',\n",
       " 'q4_balance More than 20 unique values...']"
      ]
     },
     "execution_count": 29,
     "metadata": {},
     "output_type": "execute_result"
    }
   ],
   "source": [
    "values = []\n",
    "pd.DataFrame()\n",
    "for i in X_num:\n",
    "    unique_values = X_num[i].unique().tolist()\n",
    "    if len(unique_values)>20:\n",
    "        values.append(i+' More than 20 unique values...')\n",
    "    else:\n",
    "        values.append(i+': '+str(unique_values)+'--> DISCRETE')\n",
    "values\n"
   ]
  },
  {
   "cell_type": "markdown",
   "id": "bottom-duplicate",
   "metadata": {},
   "source": [
    "Move the discrete variables to the categoricals' dataframe using **insert**"
   ]
  },
  {
   "cell_type": "code",
   "execution_count": 30,
   "id": "adequate-plumbing",
   "metadata": {},
   "outputs": [],
   "source": [
    "X_cat.insert(loc=X_cat.shape[1], column='n_bank_accounts_open', value=X_num['n_bank_accounts_open'])\n",
    "X_cat.insert(loc=X_cat.shape[1], column='n_credit_cards_held', value=X_num['n_credit_cards_held'])\n",
    "X_cat.insert(loc=X_cat.shape[1], column='n_homes_owned', value=X_num['n_homes_owned'])\n",
    "X_cat.insert(loc=X_cat.shape[1], column='household_size', value=X_num['household_size'])"
   ]
  },
  {
   "cell_type": "markdown",
   "id": "moderate-craft",
   "metadata": {},
   "source": [
    "Remove them from X_num"
   ]
  },
  {
   "cell_type": "code",
   "execution_count": 31,
   "id": "anticipated-paraguay",
   "metadata": {},
   "outputs": [],
   "source": [
    "X_num = X_num.drop('n_bank_accounts_open', axis=1)\n",
    "X_num = X_num.drop('n_credit_cards_held', axis=1)\n",
    "X_num = X_num.drop('n_homes_owned', axis=1)\n",
    "X_num = X_num.drop('household_size', axis=1)"
   ]
  },
  {
   "cell_type": "markdown",
   "id": "logical-passion",
   "metadata": {},
   "source": [
    "4.1.4 Check the distribution using plots and transform if necesary"
   ]
  },
  {
   "cell_type": "markdown",
   "id": "sexual-screw",
   "metadata": {},
   "source": [
    "Define functions for plotting"
   ]
  },
  {
   "cell_type": "code",
   "execution_count": 32,
   "id": "compressed-clear",
   "metadata": {},
   "outputs": [],
   "source": [
    "def histplot_grid(df):\n",
    "    \"\"\"\n",
    "    This function plots histograms for multiple columns of a dataframe\n",
    "    \"\"\"\n",
    "    fig = plt.figure(figsize=(16,6))\n",
    "    axes = []\n",
    "    for count, val in enumerate(df):\n",
    "        axes.append(fig.add_subplot(math.ceil(df.shape[1]/3), 3, count+1))\n",
    "        sns.histplot(x=df[val], ax=axes[count], color='darkorange', kde=True)\n",
    "    plt.plot"
   ]
  },
  {
   "cell_type": "code",
   "execution_count": 33,
   "id": "composed-thanksgiving",
   "metadata": {},
   "outputs": [],
   "source": [
    "def boxplot_grid(df):\n",
    "    \"\"\"\n",
    "    This function draws boxplots for multiple columns of a dataframe\n",
    "    \"\"\"\n",
    "    fig = plt.figure(figsize=(16,6))\n",
    "    axes = []\n",
    "    for count, val in enumerate(df):\n",
    "        axes.append(fig.add_subplot(math.ceil(df.shape[1]/3), 3, count+1))\n",
    "        sns.boxplot(x=df[val], ax=axes[count], color='turquoise')\n",
    "    plt.plot"
   ]
  },
  {
   "cell_type": "code",
   "execution_count": 34,
   "id": "negative-intake",
   "metadata": {},
   "outputs": [],
   "source": [
    "import pylab \n",
    "import scipy.stats as stats\n",
    "\n",
    "def probplot_grid(df):\n",
    "    \"\"\"\n",
    "    This function draws probplots for multiple columns of a dataframe\n",
    "    \"\"\"\n",
    "    fig = plt.figure(figsize=(12,8))\n",
    "    axes = []\n",
    "    for count, val in enumerate(df):\n",
    "        axes.append(fig.add_subplot(math.ceil(df.shape[1]/2), 2, count+1))\n",
    "        axes[count] = stats.probplot(x=df[val], dist=\"norm\", plot=pylab)\n",
    "    pylab.show()"
   ]
  },
  {
   "cell_type": "markdown",
   "id": "expired-watts",
   "metadata": {},
   "source": [
    "Histograms"
   ]
  },
  {
   "cell_type": "code",
   "execution_count": 35,
   "id": "olympic-russian",
   "metadata": {},
   "outputs": [
    {
     "data": {
      "image/png": "[encoded data removed]",
      "text/plain": [
       "<Figure size 1152x432 with 4 Axes>"
      ]
     },
     "metadata": {
      "needs_background": "light"
     },
     "output_type": "display_data"
    }
   ],
   "source": [
    "histplot_grid(X_num)"
   ]
  },
  {
   "cell_type": "markdown",
   "id": "periodic-launch",
   "metadata": {},
   "source": [
    "Boxplots"
   ]
  },
  {
   "cell_type": "code",
   "execution_count": 36,
   "id": "broad-remove",
   "metadata": {
    "scrolled": false
   },
   "outputs": [
    {
     "data": {
      "image/png": "[encoded data removed]",
      "text/plain": [
       "<Figure size 1152x432 with 4 Axes>"
      ]
     },
     "metadata": {
      "needs_background": "light"
     },
     "output_type": "display_data"
    }
   ],
   "source": [
    "boxplot_grid(X_num)"
   ]
  },
  {
   "cell_type": "markdown",
   "id": "african-oregon",
   "metadata": {},
   "source": [
    "The quartals' data is skewed to the right. We reshape it by removing the outliers"
   ]
  },
  {
   "cell_type": "code",
   "execution_count": 37,
   "id": "manufactured-federation",
   "metadata": {},
   "outputs": [
    {
     "data": {
      "image/png": "[encoded data removed]",
      "text/plain": [
       "<Figure size 864x576 with 4 Axes>"
      ]
     },
     "metadata": {
      "needs_background": "light"
     },
     "output_type": "display_data"
    }
   ],
   "source": [
    "probplot_grid(X_num)"
   ]
  },
  {
   "cell_type": "markdown",
   "id": "coordinate-drink",
   "metadata": {},
   "source": [
    "Function to remove outliers"
   ]
  },
  {
   "cell_type": "code",
   "execution_count": 38,
   "id": "neural-waterproof",
   "metadata": {},
   "outputs": [],
   "source": [
    "def remove_outliers_iqr(arr, lwrmult, uprmult):\n",
    "    iqr = np.percentile(arr,75) - np.percentile(arr,25)\n",
    "    lower_limit = np.percentile(arr,25) - lwrmult*iqr\n",
    "    upper_limit = np.percentile(arr,75) + uprmult*iqr\n",
    "    df_final = arr[(arr>lower_limit) & (arr<upper_limit)]\n",
    "    return df_final"
   ]
  },
  {
   "cell_type": "code",
   "execution_count": 39,
   "id": "silent-narrow",
   "metadata": {},
   "outputs": [],
   "source": [
    "X_num = X_num.apply(remove_outliers_iqr, lwrmult=6, uprmult=1.2)"
   ]
  },
  {
   "cell_type": "markdown",
   "id": "opposite-masters",
   "metadata": {},
   "source": [
    "Let's plot again to see the changes"
   ]
  },
  {
   "cell_type": "code",
   "execution_count": 40,
   "id": "inappropriate-relationship",
   "metadata": {},
   "outputs": [
    {
     "data": {
      "image/png": "[encoded data removed]",
      "text/plain": [
       "<Figure size 1152x432 with 4 Axes>"
      ]
     },
     "metadata": {
      "needs_background": "light"
     },
     "output_type": "display_data"
    },
    {
     "data": {
      "image/png": "[encoded data removed]",
      "text/plain": [
       "<Figure size 1152x432 with 4 Axes>"
      ]
     },
     "metadata": {
      "needs_background": "light"
     },
     "output_type": "display_data"
    }
   ],
   "source": [
    "histplot_grid(X_num)\n",
    "boxplot_grid(X_num)"
   ]
  },
  {
   "cell_type": "markdown",
   "id": "stunning-cartridge",
   "metadata": {},
   "source": [
    "### 4.2 Categorical variables"
   ]
  },
  {
   "cell_type": "code",
   "execution_count": 41,
   "id": "governing-fruit",
   "metadata": {},
   "outputs": [
    {
     "data": {
      "text/html": [
       "<div>\n",
       "<style scoped>\n",
       "    .dataframe tbody tr th:only-of-type {\n",
       "        vertical-align: middle;\n",
       "    }\n",
       "\n",
       "    .dataframe tbody tr th {\n",
       "        vertical-align: top;\n",
       "    }\n",
       "\n",
       "    .dataframe thead th {\n",
       "        text-align: right;\n",
       "    }\n",
       "</style>\n",
       "<table border=\"1\" class=\"dataframe\">\n",
       "  <thead>\n",
       "    <tr style=\"text-align: right;\">\n",
       "      <th></th>\n",
       "      <th>offer_accepted</th>\n",
       "      <th>reward</th>\n",
       "      <th>mailer_type</th>\n",
       "      <th>income_level</th>\n",
       "      <th>overdraft_protection</th>\n",
       "      <th>credit_rating</th>\n",
       "      <th>own_your_home</th>\n",
       "      <th>n_bank_accounts_open</th>\n",
       "      <th>n_credit_cards_held</th>\n",
       "      <th>n_homes_owned</th>\n",
       "      <th>household_size</th>\n",
       "    </tr>\n",
       "  </thead>\n",
       "  <tbody>\n",
       "    <tr>\n",
       "      <th>0</th>\n",
       "      <td>No</td>\n",
       "      <td>Air Miles</td>\n",
       "      <td>Letter</td>\n",
       "      <td>High</td>\n",
       "      <td>No</td>\n",
       "      <td>High</td>\n",
       "      <td>No</td>\n",
       "      <td>1</td>\n",
       "      <td>2</td>\n",
       "      <td>1</td>\n",
       "      <td>4</td>\n",
       "    </tr>\n",
       "    <tr>\n",
       "      <th>1</th>\n",
       "      <td>No</td>\n",
       "      <td>Air Miles</td>\n",
       "      <td>Letter</td>\n",
       "      <td>Medium</td>\n",
       "      <td>No</td>\n",
       "      <td>Medium</td>\n",
       "      <td>Yes</td>\n",
       "      <td>1</td>\n",
       "      <td>2</td>\n",
       "      <td>2</td>\n",
       "      <td>5</td>\n",
       "    </tr>\n",
       "    <tr>\n",
       "      <th>2</th>\n",
       "      <td>No</td>\n",
       "      <td>Air Miles</td>\n",
       "      <td>Postcard</td>\n",
       "      <td>High</td>\n",
       "      <td>No</td>\n",
       "      <td>Medium</td>\n",
       "      <td>Yes</td>\n",
       "      <td>2</td>\n",
       "      <td>2</td>\n",
       "      <td>1</td>\n",
       "      <td>2</td>\n",
       "    </tr>\n",
       "    <tr>\n",
       "      <th>3</th>\n",
       "      <td>No</td>\n",
       "      <td>Air Miles</td>\n",
       "      <td>Letter</td>\n",
       "      <td>Medium</td>\n",
       "      <td>No</td>\n",
       "      <td>High</td>\n",
       "      <td>No</td>\n",
       "      <td>2</td>\n",
       "      <td>1</td>\n",
       "      <td>1</td>\n",
       "      <td>4</td>\n",
       "    </tr>\n",
       "    <tr>\n",
       "      <th>4</th>\n",
       "      <td>No</td>\n",
       "      <td>Air Miles</td>\n",
       "      <td>Letter</td>\n",
       "      <td>Medium</td>\n",
       "      <td>No</td>\n",
       "      <td>Medium</td>\n",
       "      <td>Yes</td>\n",
       "      <td>1</td>\n",
       "      <td>2</td>\n",
       "      <td>1</td>\n",
       "      <td>6</td>\n",
       "    </tr>\n",
       "  </tbody>\n",
       "</table>\n",
       "</div>"
      ],
      "text/plain": [
       "  offer_accepted     reward mailer_type income_level overdraft_protection  \\\n",
       "0             No  Air Miles      Letter         High                   No   \n",
       "1             No  Air Miles      Letter       Medium                   No   \n",
       "2             No  Air Miles    Postcard         High                   No   \n",
       "3             No  Air Miles      Letter       Medium                   No   \n",
       "4             No  Air Miles      Letter       Medium                   No   \n",
       "\n",
       "  credit_rating own_your_home  n_bank_accounts_open  n_credit_cards_held  \\\n",
       "0          High            No                     1                    2   \n",
       "1        Medium           Yes                     1                    2   \n",
       "2        Medium           Yes                     2                    2   \n",
       "3          High            No                     2                    1   \n",
       "4        Medium           Yes                     1                    2   \n",
       "\n",
       "   n_homes_owned  household_size  \n",
       "0              1               4  \n",
       "1              2               5  \n",
       "2              1               2  \n",
       "3              1               4  \n",
       "4              1               6  "
      ]
     },
     "execution_count": 41,
     "metadata": {},
     "output_type": "execute_result"
    }
   ],
   "source": [
    "X_cat.head()"
   ]
  },
  {
   "cell_type": "code",
   "execution_count": 42,
   "id": "exact-footwear",
   "metadata": {},
   "outputs": [
    {
     "name": "stdout",
     "output_type": "stream",
     "text": [
      "['offer_accepted', '2 values', ['No', 'Yes']]\n",
      "['reward', '3 values', ['Air Miles', 'Cash Back', 'Points']]\n",
      "['mailer_type', '2 values', ['Letter', 'Postcard']]\n",
      "['income_level', '3 values', ['High', 'Medium', 'Low']]\n",
      "['overdraft_protection', '2 values', ['No', 'Yes']]\n",
      "['credit_rating', '3 values', ['High', 'Medium', 'Low']]\n",
      "['own_your_home', '2 values', ['No', 'Yes']]\n",
      "['n_bank_accounts_open', '3 values', [1, 2, 3]]\n",
      "['n_credit_cards_held', '4 values', [2, 1, 3, 4]]\n",
      "['n_homes_owned', '3 values', [1, 2, 3]]\n",
      "['household_size', '8 values', [4, 5, 2, 6, 3, 1, 8, 9]]\n"
     ]
    }
   ],
   "source": [
    "def column_uniques(df):\n",
    "    \"\"\"\n",
    "    This function takes a dataframe and shows the unique elements for every column\n",
    "    \"\"\"\n",
    "    for q, v in enumerate(df):\n",
    "        x = [v, str(len(df.iloc[:,q].unique())) + ' values', df.iloc[:,q].unique().tolist()]\n",
    "        print(x)\n",
    "    pass\n",
    "column_uniques(X_cat)"
   ]
  },
  {
   "cell_type": "code",
   "execution_count": 43,
   "id": "impressed-stomach",
   "metadata": {},
   "outputs": [
    {
     "data": {
      "text/html": [
       "<div>\n",
       "<style scoped>\n",
       "    .dataframe tbody tr th:only-of-type {\n",
       "        vertical-align: middle;\n",
       "    }\n",
       "\n",
       "    .dataframe tbody tr th {\n",
       "        vertical-align: top;\n",
       "    }\n",
       "\n",
       "    .dataframe thead th {\n",
       "        text-align: right;\n",
       "    }\n",
       "</style>\n",
       "<table border=\"1\" class=\"dataframe\">\n",
       "  <thead>\n",
       "    <tr style=\"text-align: right;\">\n",
       "      <th></th>\n",
       "      <th>offer_accepted</th>\n",
       "      <th>reward</th>\n",
       "      <th>mailer_type</th>\n",
       "      <th>income_level</th>\n",
       "      <th>credit_rating</th>\n",
       "      <th>n_bank_accounts_open</th>\n",
       "      <th>n_credit_cards_held</th>\n",
       "      <th>n_homes_owned</th>\n",
       "      <th>household_size</th>\n",
       "    </tr>\n",
       "  </thead>\n",
       "  <tbody>\n",
       "    <tr>\n",
       "      <th>0</th>\n",
       "      <td>No</td>\n",
       "      <td>Air Miles</td>\n",
       "      <td>Letter</td>\n",
       "      <td>High</td>\n",
       "      <td>High</td>\n",
       "      <td>1</td>\n",
       "      <td>2</td>\n",
       "      <td>1</td>\n",
       "      <td>4</td>\n",
       "    </tr>\n",
       "    <tr>\n",
       "      <th>1</th>\n",
       "      <td>No</td>\n",
       "      <td>Air Miles</td>\n",
       "      <td>Letter</td>\n",
       "      <td>Medium</td>\n",
       "      <td>Medium</td>\n",
       "      <td>1</td>\n",
       "      <td>2</td>\n",
       "      <td>2</td>\n",
       "      <td>5</td>\n",
       "    </tr>\n",
       "    <tr>\n",
       "      <th>2</th>\n",
       "      <td>No</td>\n",
       "      <td>Air Miles</td>\n",
       "      <td>Postcard</td>\n",
       "      <td>High</td>\n",
       "      <td>Medium</td>\n",
       "      <td>2</td>\n",
       "      <td>2</td>\n",
       "      <td>1</td>\n",
       "      <td>2</td>\n",
       "    </tr>\n",
       "    <tr>\n",
       "      <th>3</th>\n",
       "      <td>No</td>\n",
       "      <td>Air Miles</td>\n",
       "      <td>Letter</td>\n",
       "      <td>Medium</td>\n",
       "      <td>High</td>\n",
       "      <td>2</td>\n",
       "      <td>1</td>\n",
       "      <td>1</td>\n",
       "      <td>4</td>\n",
       "    </tr>\n",
       "    <tr>\n",
       "      <th>4</th>\n",
       "      <td>No</td>\n",
       "      <td>Air Miles</td>\n",
       "      <td>Letter</td>\n",
       "      <td>Medium</td>\n",
       "      <td>Medium</td>\n",
       "      <td>1</td>\n",
       "      <td>2</td>\n",
       "      <td>1</td>\n",
       "      <td>6</td>\n",
       "    </tr>\n",
       "  </tbody>\n",
       "</table>\n",
       "</div>"
      ],
      "text/plain": [
       "  offer_accepted     reward mailer_type income_level credit_rating  \\\n",
       "0             No  Air Miles      Letter         High          High   \n",
       "1             No  Air Miles      Letter       Medium        Medium   \n",
       "2             No  Air Miles    Postcard         High        Medium   \n",
       "3             No  Air Miles      Letter       Medium          High   \n",
       "4             No  Air Miles      Letter       Medium        Medium   \n",
       "\n",
       "   n_bank_accounts_open  n_credit_cards_held  n_homes_owned  household_size  \n",
       "0                     1                    2              1               4  \n",
       "1                     1                    2              2               5  \n",
       "2                     2                    2              1               2  \n",
       "3                     2                    1              1               4  \n",
       "4                     1                    2              1               6  "
      ]
     },
     "execution_count": 43,
     "metadata": {},
     "output_type": "execute_result"
    }
   ],
   "source": [
    "# Keep only selected features\n",
    "X_cat = X_cat.drop(['overdraft_protection', 'own_your_home'], axis=1)\n",
    "X_cat.head()"
   ]
  },
  {
   "cell_type": "markdown",
   "id": "chinese-burner",
   "metadata": {},
   "source": [
    "Check independence of categorical variables using chi-square"
   ]
  },
  {
   "cell_type": "code",
   "execution_count": 44,
   "id": "solar-brooklyn",
   "metadata": {},
   "outputs": [],
   "source": [
    "from scipy.stats import chi2_contingency"
   ]
  },
  {
   "cell_type": "code",
   "execution_count": 45,
   "id": "painful-mineral",
   "metadata": {},
   "outputs": [],
   "source": [
    "def check_chi2(df):\n",
    "    stat, p, dof, expected = chi2_contingency(df, correction=False) \n",
    "\n",
    "    # interpret p-value\n",
    "    alpha = 0.05\n",
    "    print(\"p value is \" + str(p)) \n",
    "    if p <= alpha: \n",
    "        return('The variables are dependent (the null hypothesis is rejected)') \n",
    "    else: \n",
    "        return('The variables are independent (the null hypothesis holds true)') "
   ]
  },
  {
   "cell_type": "code",
   "execution_count": 46,
   "id": "approximate-bearing",
   "metadata": {},
   "outputs": [
    {
     "name": "stdout",
     "output_type": "stream",
     "text": [
      "Chi-Square Test of: 'reward' and 'mailer_type'\n",
      "p value is 0.6380958767071728\n",
      "The variables are independent (the null hypothesis holds true)\n",
      "Chi-Square Test of: 'reward' and 'income_level'\n",
      "p value is 0.6278956241169493\n",
      "The variables are independent (the null hypothesis holds true)\n",
      "Chi-Square Test of: 'reward' and 'credit_rating'\n",
      "p value is 0.6778426226084249\n",
      "The variables are independent (the null hypothesis holds true)\n",
      "Chi-Square Test of: 'reward' and 'n_bank_accounts_open'\n",
      "p value is 0.052373863254967505\n",
      "The variables are independent (the null hypothesis holds true)\n",
      "Chi-Square Test of: 'reward' and 'n_credit_cards_held'\n",
      "p value is 0.4430310888263659\n",
      "The variables are independent (the null hypothesis holds true)\n",
      "Chi-Square Test of: 'reward' and 'n_homes_owned'\n",
      "p value is 0.8162377895055186\n",
      "The variables are independent (the null hypothesis holds true)\n",
      "Chi-Square Test of: 'reward' and 'household_size'\n",
      "p value is 0.8240406696516465\n",
      "The variables are independent (the null hypothesis holds true)\n",
      "Chi-Square Test of: 'mailer_type' and 'income_level'\n",
      "p value is 0.5796999877805373\n",
      "The variables are independent (the null hypothesis holds true)\n",
      "Chi-Square Test of: 'mailer_type' and 'credit_rating'\n",
      "p value is 0.7511491326540082\n",
      "The variables are independent (the null hypothesis holds true)\n",
      "Chi-Square Test of: 'mailer_type' and 'n_bank_accounts_open'\n",
      "p value is 0.9239779195116727\n",
      "The variables are independent (the null hypothesis holds true)\n",
      "Chi-Square Test of: 'mailer_type' and 'n_credit_cards_held'\n",
      "p value is 0.4075845276536205\n",
      "The variables are independent (the null hypothesis holds true)\n",
      "Chi-Square Test of: 'mailer_type' and 'n_homes_owned'\n",
      "p value is 0.5337514623427926\n",
      "The variables are independent (the null hypothesis holds true)\n",
      "Chi-Square Test of: 'mailer_type' and 'household_size'\n",
      "p value is 0.4639997923434006\n",
      "The variables are independent (the null hypothesis holds true)\n",
      "Chi-Square Test of: 'income_level' and 'credit_rating'\n",
      "p value is 0.5394378509869674\n",
      "The variables are independent (the null hypothesis holds true)\n",
      "Chi-Square Test of: 'income_level' and 'n_bank_accounts_open'\n",
      "p value is 0.08759059671420304\n",
      "The variables are independent (the null hypothesis holds true)\n",
      "Chi-Square Test of: 'income_level' and 'n_credit_cards_held'\n",
      "p value is 0.969043699623119\n",
      "The variables are independent (the null hypothesis holds true)\n",
      "Chi-Square Test of: 'income_level' and 'n_homes_owned'\n",
      "p value is 0.9096283520315961\n",
      "The variables are independent (the null hypothesis holds true)\n",
      "Chi-Square Test of: 'income_level' and 'household_size'\n",
      "p value is 0.28221322326982184\n",
      "The variables are independent (the null hypothesis holds true)\n",
      "Chi-Square Test of: 'credit_rating' and 'n_bank_accounts_open'\n",
      "p value is 0.3818939411999608\n",
      "The variables are independent (the null hypothesis holds true)\n",
      "Chi-Square Test of: 'credit_rating' and 'n_credit_cards_held'\n",
      "p value is 0.7747717937288897\n",
      "The variables are independent (the null hypothesis holds true)\n",
      "Chi-Square Test of: 'credit_rating' and 'n_homes_owned'\n",
      "p value is 0.4277770693041615\n",
      "The variables are independent (the null hypothesis holds true)\n",
      "Chi-Square Test of: 'credit_rating' and 'household_size'\n",
      "p value is 0.27048118070555927\n",
      "The variables are independent (the null hypothesis holds true)\n",
      "Chi-Square Test of: 'n_bank_accounts_open' and 'n_credit_cards_held'\n",
      "p value is 0.8041993155567578\n",
      "The variables are independent (the null hypothesis holds true)\n",
      "Chi-Square Test of: 'n_bank_accounts_open' and 'n_homes_owned'\n",
      "p value is 0.849370564597387\n",
      "The variables are independent (the null hypothesis holds true)\n",
      "Chi-Square Test of: 'n_bank_accounts_open' and 'household_size'\n",
      "p value is 0.3469417779758387\n",
      "The variables are independent (the null hypothesis holds true)\n",
      "Chi-Square Test of: 'n_credit_cards_held' and 'n_homes_owned'\n",
      "p value is 0.84833103458704\n",
      "The variables are independent (the null hypothesis holds true)\n",
      "Chi-Square Test of: 'n_credit_cards_held' and 'household_size'\n",
      "p value is 0.8889916356966154\n",
      "The variables are independent (the null hypothesis holds true)\n",
      "Chi-Square Test of: 'n_homes_owned' and 'household_size'\n",
      "p value is 0.44614277262206803\n",
      "The variables are independent (the null hypothesis holds true)\n"
     ]
    }
   ],
   "source": [
    "# Check all the columns\n",
    "for i in range(1, X_cat.shape[1]):\n",
    "    for q in range(i+1, X_cat.shape[1]):\n",
    "        data_crosstab = pd.crosstab(X_cat[X_cat.columns[i]], X_cat[X_cat.columns[q]], margins = False)\n",
    "        print('Chi-Square Test of: \\''+X_cat.columns[i]+'\\' and \\''+X_cat.columns[q]+'\\'')\n",
    "        print(check_chi2(data_crosstab))"
   ]
  },
  {
   "cell_type": "markdown",
   "id": "monthly-growth",
   "metadata": {},
   "source": [
    "Define the target Y and drop it from the features' table"
   ]
  },
  {
   "cell_type": "code",
   "execution_count": 47,
   "id": "measured-pioneer",
   "metadata": {},
   "outputs": [],
   "source": [
    "y = X_cat['offer_accepted']"
   ]
  },
  {
   "cell_type": "markdown",
   "id": "qualified-printer",
   "metadata": {},
   "source": [
    "## 5. Standardize and encode"
   ]
  },
  {
   "cell_type": "markdown",
   "id": "hollywood-talent",
   "metadata": {},
   "source": [
    "### 5.1 Standardize numerical variables"
   ]
  },
  {
   "cell_type": "markdown",
   "id": "electoral-junior",
   "metadata": {},
   "source": [
    "Using **Standard Scaler**"
   ]
  },
  {
   "cell_type": "code",
   "execution_count": 48,
   "id": "balanced-timeline",
   "metadata": {},
   "outputs": [
    {
     "data": {
      "text/html": [
       "<div>\n",
       "<style scoped>\n",
       "    .dataframe tbody tr th:only-of-type {\n",
       "        vertical-align: middle;\n",
       "    }\n",
       "\n",
       "    .dataframe tbody tr th {\n",
       "        vertical-align: top;\n",
       "    }\n",
       "\n",
       "    .dataframe thead th {\n",
       "        text-align: right;\n",
       "    }\n",
       "</style>\n",
       "<table border=\"1\" class=\"dataframe\">\n",
       "  <thead>\n",
       "    <tr style=\"text-align: right;\">\n",
       "      <th></th>\n",
       "      <th>0</th>\n",
       "      <th>1</th>\n",
       "      <th>2</th>\n",
       "      <th>3</th>\n",
       "    </tr>\n",
       "  </thead>\n",
       "  <tbody>\n",
       "    <tr>\n",
       "      <th>0</th>\n",
       "      <td>1.224930</td>\n",
       "      <td>-0.267042</td>\n",
       "      <td>0.097329</td>\n",
       "      <td>0.346785</td>\n",
       "    </tr>\n",
       "    <tr>\n",
       "      <th>1</th>\n",
       "      <td>-1.406758</td>\n",
       "      <td>-1.959107</td>\n",
       "      <td>-1.745601</td>\n",
       "      <td>-0.796182</td>\n",
       "    </tr>\n",
       "    <tr>\n",
       "      <th>2</th>\n",
       "      <td>-0.877191</td>\n",
       "      <td>-1.419226</td>\n",
       "      <td>-1.624189</td>\n",
       "      <td>-1.019025</td>\n",
       "    </tr>\n",
       "    <tr>\n",
       "      <th>3</th>\n",
       "      <td>1.078008</td>\n",
       "      <td>1.670823</td>\n",
       "      <td>0.140820</td>\n",
       "      <td>-0.700935</td>\n",
       "    </tr>\n",
       "    <tr>\n",
       "      <th>4</th>\n",
       "      <td>1.985375</td>\n",
       "      <td>0.786384</td>\n",
       "      <td>-0.107441</td>\n",
       "      <td>-0.797979</td>\n",
       "    </tr>\n",
       "    <tr>\n",
       "      <th>...</th>\n",
       "      <td>...</td>\n",
       "      <td>...</td>\n",
       "      <td>...</td>\n",
       "      <td>...</td>\n",
       "    </tr>\n",
       "    <tr>\n",
       "      <th>17994</th>\n",
       "      <td>-1.250148</td>\n",
       "      <td>-2.049087</td>\n",
       "      <td>-1.758286</td>\n",
       "      <td>-0.738674</td>\n",
       "    </tr>\n",
       "    <tr>\n",
       "      <th>17995</th>\n",
       "      <td>0.118976</td>\n",
       "      <td>-0.128780</td>\n",
       "      <td>-0.178114</td>\n",
       "      <td>-0.492469</td>\n",
       "    </tr>\n",
       "    <tr>\n",
       "      <th>17996</th>\n",
       "      <td>0.012416</td>\n",
       "      <td>-0.508452</td>\n",
       "      <td>0.233238</td>\n",
       "      <td>1.230967</td>\n",
       "    </tr>\n",
       "    <tr>\n",
       "      <th>17997</th>\n",
       "      <td>-0.459027</td>\n",
       "      <td>-0.034410</td>\n",
       "      <td>-0.319459</td>\n",
       "      <td>1.448419</td>\n",
       "    </tr>\n",
       "    <tr>\n",
       "      <th>17998</th>\n",
       "      <td>-1.041873</td>\n",
       "      <td>0.832471</td>\n",
       "      <td>1.697435</td>\n",
       "      <td>-0.370265</td>\n",
       "    </tr>\n",
       "  </tbody>\n",
       "</table>\n",
       "<p>17999 rows × 4 columns</p>\n",
       "</div>"
      ],
      "text/plain": [
       "              0         1         2         3\n",
       "0      1.224930 -0.267042  0.097329  0.346785\n",
       "1     -1.406758 -1.959107 -1.745601 -0.796182\n",
       "2     -0.877191 -1.419226 -1.624189 -1.019025\n",
       "3      1.078008  1.670823  0.140820 -0.700935\n",
       "4      1.985375  0.786384 -0.107441 -0.797979\n",
       "...         ...       ...       ...       ...\n",
       "17994 -1.250148 -2.049087 -1.758286 -0.738674\n",
       "17995  0.118976 -0.128780 -0.178114 -0.492469\n",
       "17996  0.012416 -0.508452  0.233238  1.230967\n",
       "17997 -0.459027 -0.034410 -0.319459  1.448419\n",
       "17998 -1.041873  0.832471  1.697435 -0.370265\n",
       "\n",
       "[17999 rows x 4 columns]"
      ]
     },
     "execution_count": 48,
     "metadata": {},
     "output_type": "execute_result"
    }
   ],
   "source": [
    "from sklearn.preprocessing import StandardScaler\n",
    "\n",
    "transformer = StandardScaler().fit(X_num)\n",
    "X_num_standardized = pd.DataFrame(transformer.transform(X_num))\n",
    "X_num_standardized"
   ]
  },
  {
   "cell_type": "markdown",
   "id": "powerful-joint",
   "metadata": {},
   "source": [
    "### 5.2 Encode categorical variables"
   ]
  },
  {
   "cell_type": "markdown",
   "id": "conscious-board",
   "metadata": {},
   "source": [
    "One-Hot encoding using **get_dummies**"
   ]
  },
  {
   "cell_type": "code",
   "execution_count": 49,
   "id": "severe-justice",
   "metadata": {},
   "outputs": [
    {
     "data": {
      "text/html": [
       "<div>\n",
       "<style scoped>\n",
       "    .dataframe tbody tr th:only-of-type {\n",
       "        vertical-align: middle;\n",
       "    }\n",
       "\n",
       "    .dataframe tbody tr th {\n",
       "        vertical-align: top;\n",
       "    }\n",
       "\n",
       "    .dataframe thead th {\n",
       "        text-align: right;\n",
       "    }\n",
       "</style>\n",
       "<table border=\"1\" class=\"dataframe\">\n",
       "  <thead>\n",
       "    <tr style=\"text-align: right;\">\n",
       "      <th></th>\n",
       "      <th>n_bank_accounts_open</th>\n",
       "      <th>n_credit_cards_held</th>\n",
       "      <th>n_homes_owned</th>\n",
       "      <th>household_size</th>\n",
       "      <th>reward_Cash Back</th>\n",
       "      <th>reward_Points</th>\n",
       "      <th>mailer_type_Postcard</th>\n",
       "      <th>income_level_Low</th>\n",
       "      <th>income_level_Medium</th>\n",
       "      <th>credit_rating_Low</th>\n",
       "      <th>credit_rating_Medium</th>\n",
       "    </tr>\n",
       "  </thead>\n",
       "  <tbody>\n",
       "    <tr>\n",
       "      <th>0</th>\n",
       "      <td>1</td>\n",
       "      <td>2</td>\n",
       "      <td>1</td>\n",
       "      <td>4</td>\n",
       "      <td>0</td>\n",
       "      <td>0</td>\n",
       "      <td>0</td>\n",
       "      <td>0</td>\n",
       "      <td>0</td>\n",
       "      <td>0</td>\n",
       "      <td>0</td>\n",
       "    </tr>\n",
       "    <tr>\n",
       "      <th>1</th>\n",
       "      <td>1</td>\n",
       "      <td>2</td>\n",
       "      <td>2</td>\n",
       "      <td>5</td>\n",
       "      <td>0</td>\n",
       "      <td>0</td>\n",
       "      <td>0</td>\n",
       "      <td>0</td>\n",
       "      <td>1</td>\n",
       "      <td>0</td>\n",
       "      <td>1</td>\n",
       "    </tr>\n",
       "    <tr>\n",
       "      <th>2</th>\n",
       "      <td>2</td>\n",
       "      <td>2</td>\n",
       "      <td>1</td>\n",
       "      <td>2</td>\n",
       "      <td>0</td>\n",
       "      <td>0</td>\n",
       "      <td>1</td>\n",
       "      <td>0</td>\n",
       "      <td>0</td>\n",
       "      <td>0</td>\n",
       "      <td>1</td>\n",
       "    </tr>\n",
       "    <tr>\n",
       "      <th>3</th>\n",
       "      <td>2</td>\n",
       "      <td>1</td>\n",
       "      <td>1</td>\n",
       "      <td>4</td>\n",
       "      <td>0</td>\n",
       "      <td>0</td>\n",
       "      <td>0</td>\n",
       "      <td>0</td>\n",
       "      <td>1</td>\n",
       "      <td>0</td>\n",
       "      <td>0</td>\n",
       "    </tr>\n",
       "    <tr>\n",
       "      <th>4</th>\n",
       "      <td>1</td>\n",
       "      <td>2</td>\n",
       "      <td>1</td>\n",
       "      <td>6</td>\n",
       "      <td>0</td>\n",
       "      <td>0</td>\n",
       "      <td>0</td>\n",
       "      <td>0</td>\n",
       "      <td>1</td>\n",
       "      <td>0</td>\n",
       "      <td>1</td>\n",
       "    </tr>\n",
       "    <tr>\n",
       "      <th>...</th>\n",
       "      <td>...</td>\n",
       "      <td>...</td>\n",
       "      <td>...</td>\n",
       "      <td>...</td>\n",
       "      <td>...</td>\n",
       "      <td>...</td>\n",
       "      <td>...</td>\n",
       "      <td>...</td>\n",
       "      <td>...</td>\n",
       "      <td>...</td>\n",
       "      <td>...</td>\n",
       "    </tr>\n",
       "    <tr>\n",
       "      <th>17995</th>\n",
       "      <td>1</td>\n",
       "      <td>1</td>\n",
       "      <td>1</td>\n",
       "      <td>5</td>\n",
       "      <td>1</td>\n",
       "      <td>0</td>\n",
       "      <td>0</td>\n",
       "      <td>0</td>\n",
       "      <td>0</td>\n",
       "      <td>1</td>\n",
       "      <td>0</td>\n",
       "    </tr>\n",
       "    <tr>\n",
       "      <th>17996</th>\n",
       "      <td>1</td>\n",
       "      <td>3</td>\n",
       "      <td>1</td>\n",
       "      <td>3</td>\n",
       "      <td>1</td>\n",
       "      <td>0</td>\n",
       "      <td>0</td>\n",
       "      <td>0</td>\n",
       "      <td>0</td>\n",
       "      <td>1</td>\n",
       "      <td>0</td>\n",
       "    </tr>\n",
       "    <tr>\n",
       "      <th>17997</th>\n",
       "      <td>1</td>\n",
       "      <td>2</td>\n",
       "      <td>1</td>\n",
       "      <td>4</td>\n",
       "      <td>1</td>\n",
       "      <td>0</td>\n",
       "      <td>0</td>\n",
       "      <td>0</td>\n",
       "      <td>0</td>\n",
       "      <td>1</td>\n",
       "      <td>0</td>\n",
       "    </tr>\n",
       "    <tr>\n",
       "      <th>17998</th>\n",
       "      <td>1</td>\n",
       "      <td>4</td>\n",
       "      <td>2</td>\n",
       "      <td>2</td>\n",
       "      <td>1</td>\n",
       "      <td>0</td>\n",
       "      <td>0</td>\n",
       "      <td>0</td>\n",
       "      <td>1</td>\n",
       "      <td>0</td>\n",
       "      <td>1</td>\n",
       "    </tr>\n",
       "    <tr>\n",
       "      <th>17999</th>\n",
       "      <td>2</td>\n",
       "      <td>2</td>\n",
       "      <td>1</td>\n",
       "      <td>3</td>\n",
       "      <td>1</td>\n",
       "      <td>0</td>\n",
       "      <td>0</td>\n",
       "      <td>1</td>\n",
       "      <td>0</td>\n",
       "      <td>0</td>\n",
       "      <td>1</td>\n",
       "    </tr>\n",
       "  </tbody>\n",
       "</table>\n",
       "<p>18000 rows × 11 columns</p>\n",
       "</div>"
      ],
      "text/plain": [
       "       n_bank_accounts_open  n_credit_cards_held  n_homes_owned  \\\n",
       "0                         1                    2              1   \n",
       "1                         1                    2              2   \n",
       "2                         2                    2              1   \n",
       "3                         2                    1              1   \n",
       "4                         1                    2              1   \n",
       "...                     ...                  ...            ...   \n",
       "17995                     1                    1              1   \n",
       "17996                     1                    3              1   \n",
       "17997                     1                    2              1   \n",
       "17998                     1                    4              2   \n",
       "17999                     2                    2              1   \n",
       "\n",
       "       household_size  reward_Cash Back  reward_Points  mailer_type_Postcard  \\\n",
       "0                   4                 0              0                     0   \n",
       "1                   5                 0              0                     0   \n",
       "2                   2                 0              0                     1   \n",
       "3                   4                 0              0                     0   \n",
       "4                   6                 0              0                     0   \n",
       "...               ...               ...            ...                   ...   \n",
       "17995               5                 1              0                     0   \n",
       "17996               3                 1              0                     0   \n",
       "17997               4                 1              0                     0   \n",
       "17998               2                 1              0                     0   \n",
       "17999               3                 1              0                     0   \n",
       "\n",
       "       income_level_Low  income_level_Medium  credit_rating_Low  \\\n",
       "0                     0                    0                  0   \n",
       "1                     0                    1                  0   \n",
       "2                     0                    0                  0   \n",
       "3                     0                    1                  0   \n",
       "4                     0                    1                  0   \n",
       "...                 ...                  ...                ...   \n",
       "17995                 0                    0                  1   \n",
       "17996                 0                    0                  1   \n",
       "17997                 0                    0                  1   \n",
       "17998                 0                    1                  0   \n",
       "17999                 1                    0                  0   \n",
       "\n",
       "       credit_rating_Medium  \n",
       "0                         0  \n",
       "1                         1  \n",
       "2                         1  \n",
       "3                         0  \n",
       "4                         1  \n",
       "...                     ...  \n",
       "17995                     0  \n",
       "17996                     0  \n",
       "17997                     0  \n",
       "17998                     1  \n",
       "17999                     1  \n",
       "\n",
       "[18000 rows x 11 columns]"
      ]
     },
     "execution_count": 49,
     "metadata": {},
     "output_type": "execute_result"
    }
   ],
   "source": [
    "X_cat_encoded = pd.get_dummies(X_cat.drop('offer_accepted', axis=1), drop_first=True)\n",
    "X_cat_encoded"
   ]
  },
  {
   "cell_type": "markdown",
   "id": "italic-creature",
   "metadata": {},
   "source": [
    "Also encode X_min"
   ]
  },
  {
   "cell_type": "code",
   "execution_count": 50,
   "id": "designing-absolute",
   "metadata": {},
   "outputs": [],
   "source": [
    "X_min_encoded = pd.get_dummies(X_cat.drop('offer_accepted', axis=1), drop_first=True)"
   ]
  },
  {
   "cell_type": "markdown",
   "id": "common-dating",
   "metadata": {},
   "source": [
    "### 5.3 Put all the features together"
   ]
  },
  {
   "cell_type": "markdown",
   "id": "appreciated-shell",
   "metadata": {},
   "source": [
    "Using **concat**"
   ]
  },
  {
   "cell_type": "code",
   "execution_count": 51,
   "id": "different-gossip",
   "metadata": {},
   "outputs": [
    {
     "data": {
      "text/html": [
       "<div>\n",
       "<style scoped>\n",
       "    .dataframe tbody tr th:only-of-type {\n",
       "        vertical-align: middle;\n",
       "    }\n",
       "\n",
       "    .dataframe tbody tr th {\n",
       "        vertical-align: top;\n",
       "    }\n",
       "\n",
       "    .dataframe thead th {\n",
       "        text-align: right;\n",
       "    }\n",
       "</style>\n",
       "<table border=\"1\" class=\"dataframe\">\n",
       "  <thead>\n",
       "    <tr style=\"text-align: right;\">\n",
       "      <th></th>\n",
       "      <th>0</th>\n",
       "      <th>1</th>\n",
       "      <th>2</th>\n",
       "      <th>3</th>\n",
       "      <th>n_bank_accounts_open</th>\n",
       "      <th>n_credit_cards_held</th>\n",
       "      <th>n_homes_owned</th>\n",
       "      <th>household_size</th>\n",
       "      <th>reward_Cash Back</th>\n",
       "      <th>reward_Points</th>\n",
       "      <th>mailer_type_Postcard</th>\n",
       "      <th>income_level_Low</th>\n",
       "      <th>income_level_Medium</th>\n",
       "      <th>credit_rating_Low</th>\n",
       "      <th>credit_rating_Medium</th>\n",
       "      <th>offer_accepted</th>\n",
       "    </tr>\n",
       "  </thead>\n",
       "  <tbody>\n",
       "    <tr>\n",
       "      <th>0</th>\n",
       "      <td>1.224930</td>\n",
       "      <td>-0.267042</td>\n",
       "      <td>0.097329</td>\n",
       "      <td>0.346785</td>\n",
       "      <td>1</td>\n",
       "      <td>2</td>\n",
       "      <td>1</td>\n",
       "      <td>4</td>\n",
       "      <td>0</td>\n",
       "      <td>0</td>\n",
       "      <td>0</td>\n",
       "      <td>0</td>\n",
       "      <td>0</td>\n",
       "      <td>0</td>\n",
       "      <td>0</td>\n",
       "      <td>No</td>\n",
       "    </tr>\n",
       "    <tr>\n",
       "      <th>1</th>\n",
       "      <td>-1.406758</td>\n",
       "      <td>-1.959107</td>\n",
       "      <td>-1.745601</td>\n",
       "      <td>-0.796182</td>\n",
       "      <td>1</td>\n",
       "      <td>2</td>\n",
       "      <td>2</td>\n",
       "      <td>5</td>\n",
       "      <td>0</td>\n",
       "      <td>0</td>\n",
       "      <td>0</td>\n",
       "      <td>0</td>\n",
       "      <td>1</td>\n",
       "      <td>0</td>\n",
       "      <td>1</td>\n",
       "      <td>No</td>\n",
       "    </tr>\n",
       "    <tr>\n",
       "      <th>2</th>\n",
       "      <td>-0.877191</td>\n",
       "      <td>-1.419226</td>\n",
       "      <td>-1.624189</td>\n",
       "      <td>-1.019025</td>\n",
       "      <td>2</td>\n",
       "      <td>2</td>\n",
       "      <td>1</td>\n",
       "      <td>2</td>\n",
       "      <td>0</td>\n",
       "      <td>0</td>\n",
       "      <td>1</td>\n",
       "      <td>0</td>\n",
       "      <td>0</td>\n",
       "      <td>0</td>\n",
       "      <td>1</td>\n",
       "      <td>No</td>\n",
       "    </tr>\n",
       "    <tr>\n",
       "      <th>3</th>\n",
       "      <td>1.078008</td>\n",
       "      <td>1.670823</td>\n",
       "      <td>0.140820</td>\n",
       "      <td>-0.700935</td>\n",
       "      <td>2</td>\n",
       "      <td>1</td>\n",
       "      <td>1</td>\n",
       "      <td>4</td>\n",
       "      <td>0</td>\n",
       "      <td>0</td>\n",
       "      <td>0</td>\n",
       "      <td>0</td>\n",
       "      <td>1</td>\n",
       "      <td>0</td>\n",
       "      <td>0</td>\n",
       "      <td>No</td>\n",
       "    </tr>\n",
       "    <tr>\n",
       "      <th>4</th>\n",
       "      <td>1.985375</td>\n",
       "      <td>0.786384</td>\n",
       "      <td>-0.107441</td>\n",
       "      <td>-0.797979</td>\n",
       "      <td>1</td>\n",
       "      <td>2</td>\n",
       "      <td>1</td>\n",
       "      <td>6</td>\n",
       "      <td>0</td>\n",
       "      <td>0</td>\n",
       "      <td>0</td>\n",
       "      <td>0</td>\n",
       "      <td>1</td>\n",
       "      <td>0</td>\n",
       "      <td>1</td>\n",
       "      <td>No</td>\n",
       "    </tr>\n",
       "  </tbody>\n",
       "</table>\n",
       "</div>"
      ],
      "text/plain": [
       "          0         1         2         3  n_bank_accounts_open  \\\n",
       "0  1.224930 -0.267042  0.097329  0.346785                     1   \n",
       "1 -1.406758 -1.959107 -1.745601 -0.796182                     1   \n",
       "2 -0.877191 -1.419226 -1.624189 -1.019025                     2   \n",
       "3  1.078008  1.670823  0.140820 -0.700935                     2   \n",
       "4  1.985375  0.786384 -0.107441 -0.797979                     1   \n",
       "\n",
       "   n_credit_cards_held  n_homes_owned  household_size  reward_Cash Back  \\\n",
       "0                    2              1               4                 0   \n",
       "1                    2              2               5                 0   \n",
       "2                    2              1               2                 0   \n",
       "3                    1              1               4                 0   \n",
       "4                    2              1               6                 0   \n",
       "\n",
       "   reward_Points  mailer_type_Postcard  income_level_Low  income_level_Medium  \\\n",
       "0              0                     0                 0                    0   \n",
       "1              0                     0                 0                    1   \n",
       "2              0                     1                 0                    0   \n",
       "3              0                     0                 0                    1   \n",
       "4              0                     0                 0                    1   \n",
       "\n",
       "   credit_rating_Low  credit_rating_Medium offer_accepted  \n",
       "0                  0                     0             No  \n",
       "1                  0                     1             No  \n",
       "2                  0                     1             No  \n",
       "3                  0                     0             No  \n",
       "4                  0                     1             No  "
      ]
     },
     "execution_count": 51,
     "metadata": {},
     "output_type": "execute_result"
    }
   ],
   "source": [
    "X = pd.DataFrame(pd.concat([X_num_standardized, X_cat_encoded, y], axis=1))\n",
    "X.head()"
   ]
  },
  {
   "cell_type": "markdown",
   "id": "intimate-basic",
   "metadata": {},
   "source": [
    "There are some null values generated from the iqr transform. We drop them here"
   ]
  },
  {
   "cell_type": "code",
   "execution_count": 52,
   "id": "built-apparel",
   "metadata": {},
   "outputs": [],
   "source": [
    "X = X.dropna()"
   ]
  },
  {
   "cell_type": "markdown",
   "id": "subtle-therapy",
   "metadata": {},
   "source": [
    "Redefine the target so the number of datapoints match"
   ]
  },
  {
   "cell_type": "code",
   "execution_count": 53,
   "id": "informed-blend",
   "metadata": {},
   "outputs": [],
   "source": [
    "y = X['offer_accepted']\n",
    "X = X.drop('offer_accepted', axis=1)"
   ]
  },
  {
   "cell_type": "code",
   "execution_count": 54,
   "id": "banner-makeup",
   "metadata": {},
   "outputs": [],
   "source": [
    "y_min = X_min['offer_accepted']\n",
    "X_min = X_min.drop('offer_accepted', axis=1)"
   ]
  },
  {
   "cell_type": "markdown",
   "id": "accredited-burning",
   "metadata": {},
   "source": [
    "## 6. Deal with data imbalance "
   ]
  },
  {
   "cell_type": "markdown",
   "id": "afraid-douglas",
   "metadata": {},
   "source": [
    "Check the target ti see if there is imbalance "
   ]
  },
  {
   "cell_type": "code",
   "execution_count": 55,
   "id": "catholic-battlefield",
   "metadata": {},
   "outputs": [
    {
     "data": {
      "text/plain": [
       "No     16966\n",
       "Yes     1023\n",
       "Name: offer_accepted, dtype: int64"
      ]
     },
     "execution_count": 55,
     "metadata": {},
     "output_type": "execute_result"
    }
   ],
   "source": [
    "y.value_counts()"
   ]
  },
  {
   "cell_type": "markdown",
   "id": "super-spotlight",
   "metadata": {},
   "source": [
    "The data is very imbalanced, so we do oversampling with **SMOTE**"
   ]
  },
  {
   "cell_type": "code",
   "execution_count": 56,
   "id": "therapeutic-peace",
   "metadata": {},
   "outputs": [
    {
     "data": {
      "text/plain": [
       "Yes    16966\n",
       "No     16966\n",
       "Name: offer_accepted, dtype: int64"
      ]
     },
     "execution_count": 56,
     "metadata": {},
     "output_type": "execute_result"
    }
   ],
   "source": [
    "from imblearn.over_sampling import SMOTE\n",
    "smote = SMOTE()\n",
    "\n",
    "X_sm, y_sm = smote.fit_sample(X, y)\n",
    "y_sm.value_counts()"
   ]
  },
  {
   "cell_type": "markdown",
   "id": "extended-percentage",
   "metadata": {},
   "source": [
    "We do the same with X_min"
   ]
  },
  {
   "cell_type": "code",
   "execution_count": 57,
   "id": "julian-pavilion",
   "metadata": {},
   "outputs": [
    {
     "data": {
      "text/plain": [
       "Yes    16966\n",
       "No     16966\n",
       "Name: offer_accepted, dtype: int64"
      ]
     },
     "execution_count": 57,
     "metadata": {},
     "output_type": "execute_result"
    }
   ],
   "source": [
    "X_min_sm, y_min_sm = smote.fit_sample(X_min_encoded, y_min)\n",
    "y_sm.value_counts()"
   ]
  },
  {
   "cell_type": "markdown",
   "id": "promising-nylon",
   "metadata": {},
   "source": [
    "## 7. Test-train split"
   ]
  },
  {
   "cell_type": "markdown",
   "id": "immune-complement",
   "metadata": {},
   "source": [
    "Separate 40% of the data for testing"
   ]
  },
  {
   "cell_type": "code",
   "execution_count": 58,
   "id": "hindu-found",
   "metadata": {},
   "outputs": [],
   "source": [
    "from sklearn.model_selection import train_test_split\n",
    "\n",
    "X_train, X_test, y_train, y_test = train_test_split(X_sm, y_sm, test_size = 0.4)"
   ]
  },
  {
   "cell_type": "code",
   "execution_count": 59,
   "id": "offensive-messenger",
   "metadata": {},
   "outputs": [],
   "source": [
    "X_min_train, X_min_test, y_min_train, y_min_test = train_test_split(X_min_sm, y_min_sm, test_size = 0.4)"
   ]
  },
  {
   "cell_type": "markdown",
   "id": "opening-works",
   "metadata": {},
   "source": [
    "## 8. Training Predictive Models"
   ]
  },
  {
   "cell_type": "markdown",
   "id": "southeast-senate",
   "metadata": {},
   "source": [
    "### 8.1 Logistic Regression Model"
   ]
  },
  {
   "cell_type": "markdown",
   "id": "under-internet",
   "metadata": {},
   "source": [
    "Build and train the model"
   ]
  },
  {
   "cell_type": "code",
   "execution_count": 60,
   "id": "offshore-barrier",
   "metadata": {},
   "outputs": [
    {
     "data": {
      "text/plain": [
       "LogisticRegression()"
      ]
     },
     "execution_count": 60,
     "metadata": {},
     "output_type": "execute_result"
    }
   ],
   "source": [
    "# Logistic Regression model\n",
    "from sklearn.linear_model import LogisticRegression\n",
    "model_lr = LogisticRegression()\n",
    "model_lr.fit(X_train, y_train)"
   ]
  },
  {
   "cell_type": "markdown",
   "id": "efficient-playlist",
   "metadata": {},
   "source": [
    "Make predictions"
   ]
  },
  {
   "cell_type": "code",
   "execution_count": 61,
   "id": "opposite-bracelet",
   "metadata": {},
   "outputs": [],
   "source": [
    "y_predicted_lr = model_lr.predict(X_test)"
   ]
  },
  {
   "cell_type": "markdown",
   "id": "military-sewing",
   "metadata": {},
   "source": [
    "Check score"
   ]
  },
  {
   "cell_type": "code",
   "execution_count": 62,
   "id": "productive-bookmark",
   "metadata": {},
   "outputs": [
    {
     "data": {
      "text/plain": [
       "0.7089073896706697"
      ]
     },
     "execution_count": 62,
     "metadata": {},
     "output_type": "execute_result"
    }
   ],
   "source": [
    "model_lr.score(X_test, y_test)"
   ]
  },
  {
   "cell_type": "markdown",
   "id": "painted-bachelor",
   "metadata": {},
   "source": [
    "### 8.2 KNN Classifier"
   ]
  },
  {
   "cell_type": "markdown",
   "id": "organizational-isolation",
   "metadata": {},
   "source": [
    "Build and train the model"
   ]
  },
  {
   "cell_type": "code",
   "execution_count": 63,
   "id": "entertaining-thursday",
   "metadata": {},
   "outputs": [
    {
     "data": {
      "text/plain": [
       "KNeighborsClassifier()"
      ]
     },
     "execution_count": 63,
     "metadata": {},
     "output_type": "execute_result"
    }
   ],
   "source": [
    "from sklearn.neighbors import KNeighborsClassifier\n",
    "model_knn = KNeighborsClassifier()\n",
    "model_knn.fit(X_train, y_train)"
   ]
  },
  {
   "cell_type": "markdown",
   "id": "wicked-occurrence",
   "metadata": {},
   "source": [
    "Make predictions"
   ]
  },
  {
   "cell_type": "code",
   "execution_count": 64,
   "id": "after-hybrid",
   "metadata": {},
   "outputs": [],
   "source": [
    "y_predicted_knn = model_knn.predict(X_test)"
   ]
  },
  {
   "cell_type": "markdown",
   "id": "offensive-arena",
   "metadata": {},
   "source": [
    "Check score"
   ]
  },
  {
   "cell_type": "code",
   "execution_count": 65,
   "id": "sorted-fashion",
   "metadata": {},
   "outputs": [
    {
     "data": {
      "text/plain": [
       "0.8286303691151551"
      ]
     },
     "execution_count": 65,
     "metadata": {},
     "output_type": "execute_result"
    }
   ],
   "source": [
    "model_knn.score(X_test, y_test)"
   ]
  },
  {
   "cell_type": "markdown",
   "id": "vanilla-atlantic",
   "metadata": {},
   "source": [
    "### 8.3 Decision Tree Classifier"
   ]
  },
  {
   "cell_type": "markdown",
   "id": "inclusive-mexican",
   "metadata": {},
   "source": [
    "Build and train the model"
   ]
  },
  {
   "cell_type": "code",
   "execution_count": 66,
   "id": "arbitrary-platform",
   "metadata": {},
   "outputs": [
    {
     "data": {
      "text/plain": [
       "DecisionTreeClassifier()"
      ]
     },
     "execution_count": 66,
     "metadata": {},
     "output_type": "execute_result"
    }
   ],
   "source": [
    "from sklearn.tree import DecisionTreeClassifier\n",
    "model_tree = DecisionTreeClassifier()\n",
    "model_tree.fit(X_train, y_train)"
   ]
  },
  {
   "cell_type": "markdown",
   "id": "novel-compatibility",
   "metadata": {},
   "source": [
    "Make predictions"
   ]
  },
  {
   "cell_type": "code",
   "execution_count": 67,
   "id": "novel-bumper",
   "metadata": {},
   "outputs": [],
   "source": [
    "y_predicted_tree = model_tree.predict(X_test)"
   ]
  },
  {
   "cell_type": "markdown",
   "id": "surgical-composition",
   "metadata": {},
   "source": [
    "Check score"
   ]
  },
  {
   "cell_type": "code",
   "execution_count": 68,
   "id": "conceptual-developer",
   "metadata": {},
   "outputs": [
    {
     "data": {
      "text/plain": [
       "0.8370293965961836"
      ]
     },
     "execution_count": 68,
     "metadata": {},
     "output_type": "execute_result"
    }
   ],
   "source": [
    "model_tree.score(X_test, y_test)"
   ]
  },
  {
   "cell_type": "markdown",
   "id": "smoking-instrument",
   "metadata": {},
   "source": [
    "### 8.4 Random Forest Classifier"
   ]
  },
  {
   "cell_type": "markdown",
   "id": "searching-semiconductor",
   "metadata": {},
   "source": [
    "Build and train the model"
   ]
  },
  {
   "cell_type": "code",
   "execution_count": 69,
   "id": "grand-vinyl",
   "metadata": {},
   "outputs": [
    {
     "data": {
      "text/plain": [
       "RandomForestClassifier()"
      ]
     },
     "execution_count": 69,
     "metadata": {},
     "output_type": "execute_result"
    }
   ],
   "source": [
    "from sklearn.ensemble import RandomForestClassifier\n",
    "model_forest = RandomForestClassifier()\n",
    "model_forest.fit(X_train, y_train)"
   ]
  },
  {
   "cell_type": "markdown",
   "id": "pharmaceutical-triumph",
   "metadata": {},
   "source": [
    "Make predictions"
   ]
  },
  {
   "cell_type": "code",
   "execution_count": 70,
   "id": "synthetic-works",
   "metadata": {},
   "outputs": [],
   "source": [
    "y_predicted_forest = model_forest.predict(X_test)"
   ]
  },
  {
   "cell_type": "markdown",
   "id": "unnecessary-booth",
   "metadata": {},
   "source": [
    "Check score"
   ]
  },
  {
   "cell_type": "code",
   "execution_count": 71,
   "id": "ongoing-discovery",
   "metadata": {},
   "outputs": [
    {
     "data": {
      "text/plain": [
       "0.9189567523760407"
      ]
     },
     "execution_count": 71,
     "metadata": {},
     "output_type": "execute_result"
    }
   ],
   "source": [
    "model_forest.score(X_test, y_test)"
   ]
  },
  {
   "cell_type": "markdown",
   "id": "alleged-sunrise",
   "metadata": {},
   "source": [
    "Random Forest has the highest score. We'll use directly this model with X_min"
   ]
  },
  {
   "cell_type": "code",
   "execution_count": 72,
   "id": "electrical-tamil",
   "metadata": {},
   "outputs": [
    {
     "data": {
      "text/plain": [
       "0.8079075246649978"
      ]
     },
     "execution_count": 72,
     "metadata": {},
     "output_type": "execute_result"
    }
   ],
   "source": [
    "model_forest_min = RandomForestClassifier()\n",
    "model_forest_min.fit(X_min_train, y_min_train)\n",
    "y_min_predicted_forest = model_forest_min.predict(X_min_test)\n",
    "model_forest_min.score(X_min_test, y_min_test)"
   ]
  },
  {
   "cell_type": "markdown",
   "id": "spiritual-capacity",
   "metadata": {},
   "source": [
    "+80% with only 3 features!"
   ]
  },
  {
   "cell_type": "markdown",
   "id": "tender-assembly",
   "metadata": {},
   "source": [
    "## 9. Validation of the model"
   ]
  },
  {
   "cell_type": "markdown",
   "id": "heard-happening",
   "metadata": {},
   "source": [
    " ### 9.1 Evaluate with Confusion Matrix"
   ]
  },
  {
   "cell_type": "code",
   "execution_count": 73,
   "id": "beautiful-bermuda",
   "metadata": {},
   "outputs": [],
   "source": [
    "# Confusion matrix\n",
    "from sklearn.metrics import confusion_matrix\n",
    "import seaborn as sns\n",
    "\n",
    "cm_lr = confusion_matrix(y_test, y_predicted_lr)\n",
    "cm_knn = confusion_matrix(y_test, y_predicted_knn)\n",
    "cm_tree = confusion_matrix(y_test, y_predicted_tree)\n",
    "cm_forest = confusion_matrix(y_test, y_predicted_forest)\n",
    "cm_min_forest = confusion_matrix(y_min_test, y_min_predicted_forest)"
   ]
  },
  {
   "cell_type": "code",
   "execution_count": 74,
   "id": "thirty-healthcare",
   "metadata": {},
   "outputs": [],
   "source": [
    "def plot_cm(x, title):\n",
    "    plt.imshow(x, interpolation='nearest', cmap=plt.cm.Wistia)\n",
    "    classNames = ['Negative','Positive']\n",
    "    plt.title(title)\n",
    "    plt.ylabel('True')\n",
    "    plt.xlabel('Predicted')\n",
    "    tick_marks = np.arange(len(classNames))\n",
    "    plt.xticks(tick_marks, classNames, rotation=45)\n",
    "    plt.yticks(tick_marks, classNames)\n",
    "    s = [['TN','FP'], ['FN', 'TP']]\n",
    "    \n",
    "    for i in range(2):\n",
    "        for j in range(2):\n",
    "            plt.text(j,i, str(s[i][j])+\" = \"+str(x[i][j]))\n",
    "    plt.show()\n",
    "    pass"
   ]
  },
  {
   "cell_type": "code",
   "execution_count": 75,
   "id": "seasonal-antibody",
   "metadata": {},
   "outputs": [
    {
     "data": {
      "image/png": "[encoded data removed]",
      "text/plain": [
       "<Figure size 432x288 with 1 Axes>"
      ]
     },
     "metadata": {
      "needs_background": "light"
     },
     "output_type": "display_data"
    },
    {
     "data": {
      "image/png": "[encoded data removed]",
      "text/plain": [
       "<Figure size 432x288 with 1 Axes>"
      ]
     },
     "metadata": {
      "needs_background": "light"
     },
     "output_type": "display_data"
    },
    {
     "data": {
      "image/png": "[encoded data removed]",
      "text/plain": [
       "<Figure size 432x288 with 1 Axes>"
      ]
     },
     "metadata": {
      "needs_background": "light"
     },
     "output_type": "display_data"
    },
    {
     "data": {
      "image/png": "[encoded data removed]",
      "text/plain": [
       "<Figure size 432x288 with 1 Axes>"
      ]
     },
     "metadata": {
      "needs_background": "light"
     },
     "output_type": "display_data"
    },
    {
     "data": {
      "image/png": "[encoded data removed]",
      "text/plain": [
       "<Figure size 432x288 with 1 Axes>"
      ]
     },
     "metadata": {
      "needs_background": "light"
     },
     "output_type": "display_data"
    }
   ],
   "source": [
    "plot_cm(cm_lr, 'Logistic Regression Confusion Matrix')\n",
    "plot_cm(cm_knn, 'KNN Confusion Matrix')\n",
    "plot_cm(cm_tree, 'Decision Tree Confusion Matrix')\n",
    "plot_cm(cm_forest, 'Random Forest Confusion Matrix')\n",
    "plot_cm(cm_min_forest, 'Minimal Set with Random Forest Confusion Matrix')"
   ]
  },
  {
   "cell_type": "markdown",
   "id": "israeli-velvet",
   "metadata": {},
   "source": [
    "### 9.2 Evaluate with ROC and AUC"
   ]
  },
  {
   "cell_type": "code",
   "execution_count": 76,
   "id": "lesbian-fluid",
   "metadata": {},
   "outputs": [],
   "source": [
    "from sklearn.metrics import roc_auc_score, roc_curve"
   ]
  },
  {
   "cell_type": "code",
   "execution_count": 77,
   "id": "burning-celebration",
   "metadata": {},
   "outputs": [],
   "source": [
    "probs_lr = model_lr.predict_proba(X_test)[:, 1]\n",
    "probs_knn = model_knn.predict_proba(X_test)[:, 1]\n",
    "probs_tree = model_tree.predict_proba(X_test)[:, 1]\n",
    "probs_forest = model_forest.predict_proba(X_test)[:, 1]\n",
    "probs_forest_min = model_forest_min.predict_proba(X_min_test)[:, 1]"
   ]
  },
  {
   "cell_type": "code",
   "execution_count": 78,
   "id": "adaptive-poison",
   "metadata": {},
   "outputs": [
    {
     "data": {
      "text/plain": [
       "array(['No', 'Yes'], dtype=object)"
      ]
     },
     "execution_count": 78,
     "metadata": {},
     "output_type": "execute_result"
    }
   ],
   "source": [
    "y_test.unique()"
   ]
  },
  {
   "cell_type": "markdown",
   "id": "bearing-asthma",
   "metadata": {},
   "source": [
    "Create a version of **y** with 1 and 0 values"
   ]
  },
  {
   "cell_type": "code",
   "execution_count": 79,
   "id": "representative-clearing",
   "metadata": {},
   "outputs": [],
   "source": [
    "y_test_int = y_test.replace({'Yes': 1, 'No': 0})"
   ]
  },
  {
   "cell_type": "code",
   "execution_count": 80,
   "id": "expanded-power",
   "metadata": {},
   "outputs": [],
   "source": [
    "y_min_test_int = y_min_test.replace({'Yes': 1, 'No': 0})"
   ]
  },
  {
   "cell_type": "code",
   "execution_count": 81,
   "id": "above-victoria",
   "metadata": {},
   "outputs": [],
   "source": [
    "auc_lr = roc_auc_score(y_test_int, probs_lr)\n",
    "fpr_lr, tpr_lr, thresholds_lr = roc_curve(y_test_int, probs_lr)\n",
    "\n",
    "auc_knn = roc_auc_score(y_test_int, probs_knn)\n",
    "fpr_knn, tpr_knn, thresholds_knn = roc_curve(y_test_int, probs_knn)\n",
    "\n",
    "auc_tree = roc_auc_score(y_test_int, probs_tree)\n",
    "fpr_tree, tpr_tree, thresholds_tree = roc_curve(y_test_int, probs_tree)\n",
    "\n",
    "auc_forest = roc_auc_score(y_test_int, probs_forest)\n",
    "fpr_forest, tpr_forest, thresholds_forest = roc_curve(y_test_int, probs_forest)\n",
    "\n",
    "auc_forest_min = roc_auc_score(y_min_test_int, probs_forest_min)\n",
    "fpr_forest_min, tpr_forest_min, thresholds_forest_min = roc_curve(y_min_test_int, probs_forest_min)"
   ]
  },
  {
   "cell_type": "markdown",
   "id": "suspected-character",
   "metadata": {},
   "source": [
    "Plot everything"
   ]
  },
  {
   "cell_type": "code",
   "execution_count": 82,
   "id": "worldwide-discount",
   "metadata": {},
   "outputs": [
    {
     "data": {
      "image/png": "[encoded data removed]",
      "text/plain": [
       "<Figure size 864x504 with 1 Axes>"
      ]
     },
     "metadata": {
      "needs_background": "light"
     },
     "output_type": "display_data"
    }
   ],
   "source": [
    "plt.figure(figsize=(12, 7))\n",
    "\n",
    "plt.plot(fpr_lr, tpr_lr, label=f'AUC (Logistic Regression) = {auc_lr:.2f}')\n",
    "plt.plot(fpr_knn, tpr_knn, label=f'AUC (KNN Classifier) = {auc_knn:.2f}')\n",
    "plt.plot(fpr_tree, tpr_tree, label=f'AUC (Decision Tree) = {auc_tree:.2f}')\n",
    "plt.plot(fpr_forest, tpr_forest, label=f'AUC (Random Forests) = {auc_forest:.2f}')\n",
    "plt.plot(fpr_forest_min, tpr_forest_min, label=f'AUC (Random Forests) Min Set = {auc_forest_min:.2f}')\n",
    "\n",
    "plt.plot([0, 1], [0, 1], color='blue', linestyle='--', label='Baseline')\n",
    "plt.title('ROC Curve', size=20)\n",
    "plt.xlabel('False Positive Rate', size=14)\n",
    "plt.ylabel('True Positive Rate', size=14)\n",
    "plt.legend();"
   ]
  },
  {
   "cell_type": "markdown",
   "id": "optical-lightweight",
   "metadata": {},
   "source": [
    "## 10. Identify Overfitting"
   ]
  },
  {
   "cell_type": "code",
   "execution_count": 84,
   "id": "employed-banking",
   "metadata": {},
   "outputs": [
    {
     "name": "stdout",
     "output_type": "stream",
     "text": [
      ">1, train: 0.634, test: 0.632\n",
      ">2, train: 0.639, test: 0.631\n",
      ">3, train: 0.679, test: 0.682\n",
      ">4, train: 0.700, test: 0.693\n",
      ">5, train: 0.710, test: 0.699\n",
      ">6, train: 0.723, test: 0.709\n",
      ">7, train: 0.741, test: 0.719\n",
      ">8, train: 0.759, test: 0.729\n",
      ">9, train: 0.785, test: 0.747\n",
      ">10, train: 0.806, test: 0.761\n",
      ">11, train: 0.834, test: 0.773\n",
      ">12, train: 0.856, test: 0.789\n",
      ">13, train: 0.879, test: 0.798\n",
      ">14, train: 0.900, test: 0.808\n",
      ">15, train: 0.917, test: 0.811\n",
      ">16, train: 0.934, test: 0.819\n",
      ">17, train: 0.947, test: 0.822\n",
      ">18, train: 0.958, test: 0.828\n",
      ">19, train: 0.968, test: 0.830\n",
      ">20, train: 0.975, test: 0.834\n"
     ]
    },
    {
     "data": {
      "image/png": "[encoded data removed]",
      "text/plain": [
       "<Figure size 432x288 with 1 Axes>"
      ]
     },
     "metadata": {
      "needs_background": "light"
     },
     "output_type": "display_data"
    }
   ],
   "source": [
    "# Evaluate decision tree performance on train and test sets with different tree depths\n",
    "from sklearn.datasets import make_classification\n",
    "from sklearn.metrics import accuracy_score\n",
    "\n",
    "# define lists to collect scores\n",
    "train_scores, test_scores = list(), list()\n",
    "# define the tree depths to evaluate\n",
    "values = [i for i in range(1, 21)]\n",
    "\n",
    "# evaluate a decision tree for each depth\n",
    "for i in values:\n",
    "    model = DecisionTreeClassifier(max_depth=i)\n",
    "    model.fit(X_train, y_train)\n",
    "    train_yhat = model.predict(X_train)\n",
    "    train_acc = accuracy_score(y_train, train_yhat)\n",
    "    train_scores.append(train_acc)\n",
    "    test_yhat = model.predict(X_test)\n",
    "    test_acc = accuracy_score(y_test, test_yhat)\n",
    "    test_scores.append(test_acc)\n",
    "    # summarize progress\n",
    "    print('>%d, train: %.3f, test: %.3f' % (i, train_acc, test_acc))\n",
    "# plot of train and test scores vs tree depth\n",
    "plt.plot(values, train_scores, '-o', label='Train')\n",
    "plt.plot(values, test_scores, '-o', label='Test')\n",
    "plt.legend()\n",
    "plt.show()"
   ]
  }
 ],
 "metadata": {
  "kernelspec": {
   "display_name": "Python 3",
   "language": "python",
   "name": "python3"
  },
  "language_info": {
   "codemirror_mode": {
    "name": "ipython",
    "version": 3
   },
   "file_extension": ".py",
   "mimetype": "text/x-python",
   "name": "python",
   "nbconvert_exporter": "python",
   "pygments_lexer": "ipython3",
   "version": "3.7.9"
  }
 },
 "nbformat": 4,
 "nbformat_minor": 5
}
